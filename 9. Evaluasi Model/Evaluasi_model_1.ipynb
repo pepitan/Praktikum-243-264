{
  "nbformat": 4,
  "nbformat_minor": 0,
  "metadata": {
    "colab": {
      "name": "Evaluasi_model_1",
      "provenance": []
    },
    "kernelspec": {
      "name": "python3",
      "display_name": "Python 3"
    },
    "language_info": {
      "name": "python"
    }
  },
  "cells": [
    {
      "cell_type": "markdown",
      "metadata": {
        "id": "48xgwnQn70_1"
      },
      "source": [
        "#Load Dataset"
      ]
    },
    {
      "cell_type": "code",
      "metadata": {
        "colab": {
          "base_uri": "https://localhost:8080/"
        },
        "id": "g8emHEXyCDMb",
        "outputId": "421225e3-3afd-404a-ee27-7adaeff21df2"
      },
      "source": [
        "from google.colab import drive\n",
        "drive.mount('/content/drive')"
      ],
      "execution_count": null,
      "outputs": [
        {
          "output_type": "stream",
          "name": "stdout",
          "text": [
            "Mounted at /content/drive\n"
          ]
        }
      ]
    },
    {
      "cell_type": "code",
      "metadata": {
        "id": "XZWrN70qCiTp"
      },
      "source": [
        "with_mask= '/content/drive/MyDrive/Machine Learning/Modul 3/Kegiatan Kelompok/Dataset/with_mask'\n",
        "without_mask = '/content/drive/MyDrive/Machine Learning/Modul 3/Kegiatan Kelompok/Dataset/without_mask'"
      ],
      "execution_count": null,
      "outputs": []
    },
    {
      "cell_type": "code",
      "metadata": {
        "id": "rskOSPNxDrXH"
      },
      "source": [
        "import os"
      ],
      "execution_count": null,
      "outputs": []
    },
    {
      "cell_type": "code",
      "metadata": {
        "colab": {
          "base_uri": "https://localhost:8080/"
        },
        "id": "mjDr6H-pDdxh",
        "outputId": "5efc3d53-8996-4570-ffba-94ef048f1bf1"
      },
      "source": [
        "print(\"jumlah masker   :\", len(os.listdir(with_mask)))\n",
        "print(\"jumlah tanpa masker    :\", len(os.listdir(without_mask)))"
      ],
      "execution_count": null,
      "outputs": [
        {
          "output_type": "stream",
          "name": "stdout",
          "text": [
            "jumlah masker   : 2165\n",
            "jumlah tanpa masker    : 1930\n"
          ]
        }
      ]
    },
    {
      "cell_type": "code",
      "metadata": {
        "colab": {
          "base_uri": "https://localhost:8080/"
        },
        "id": "oFp3PG4DD3yQ",
        "outputId": "2b97615e-236c-4116-fec5-9a03af4bea6c"
      },
      "source": [
        "!pip install split_folders\n",
        "import splitfolders"
      ],
      "execution_count": null,
      "outputs": [
        {
          "output_type": "stream",
          "name": "stdout",
          "text": [
            "Collecting split_folders\n",
            "  Downloading split_folders-0.4.3-py3-none-any.whl (7.4 kB)\n",
            "Installing collected packages: split-folders\n",
            "Successfully installed split-folders-0.4.3\n"
          ]
        }
      ]
    },
    {
      "cell_type": "code",
      "metadata": {
        "colab": {
          "base_uri": "https://localhost:8080/"
        },
        "id": "3NuQLsmvD7Sd",
        "outputId": "5a323a74-93f3-469b-b4f0-baa4d5b35457"
      },
      "source": [
        "input_folder = '/content/drive/MyDrive/Machine Learning/Modul 3/Kegiatan Kelompok/Dataset'\n",
        "output = '/content/drive/MyDrive/Machine Learning/Modul 3/Kegiatan Kelompok/Splited Dataset'\n",
        "splitfolders.ratio(input_folder, output = output, seed=42, ratio=(.8, .19, .01))"
      ],
      "execution_count": null,
      "outputs": [
        {
          "output_type": "stream",
          "name": "stderr",
          "text": [
            "Copying files: 4095 files [42:02,  1.62 files/s]\n"
          ]
        }
      ]
    },
    {
      "cell_type": "markdown",
      "metadata": {
        "id": "L-loEYgx8PzB"
      },
      "source": [
        "#Splitting Dataset"
      ]
    },
    {
      "cell_type": "code",
      "metadata": {
        "id": "-5blBjJpOQw2"
      },
      "source": [
        "train_dir = '/content/drive/MyDrive/Machine Learning/Modul 3/Kegiatan Kelompok/Splited Dataset/train'\n",
        "val_dir = '/content/drive/MyDrive/Machine Learning/Modul 3/Kegiatan Kelompok/Splited Dataset/val'\n",
        "test_dir = '/content/drive/MyDrive/Machine Learning/Modul 3/Kegiatan Kelompok/Splited Dataset/test'"
      ],
      "execution_count": null,
      "outputs": []
    },
    {
      "cell_type": "code",
      "metadata": {
        "id": "I2-HZJlUmmJJ"
      },
      "source": [
        "import matplotlib.pyplot as plt \n",
        "from tensorflow.keras.preprocessing.image import ImageDataGenerator, load_img\n",
        "import tensorflow as tf\n",
        "from tensorflow.keras.utils import to_categorical\n",
        "from keras.callbacks import ReduceLROnPlateau"
      ],
      "execution_count": null,
      "outputs": []
    },
    {
      "cell_type": "code",
      "metadata": {
        "id": "oYYWY-nOmoVs"
      },
      "source": [
        "batch_size = 20"
      ],
      "execution_count": null,
      "outputs": []
    },
    {
      "cell_type": "markdown",
      "metadata": {
        "id": "nRVjTRWQ8ThF"
      },
      "source": [
        "#Augmentasi Data"
      ]
    },
    {
      "cell_type": "code",
      "metadata": {
        "colab": {
          "base_uri": "https://localhost:8080/"
        },
        "id": "Yyd2d6gImqY8",
        "outputId": "dbbcf22b-528e-43b5-b8ed-d4e671afc2a9"
      },
      "source": [
        "train_datagen = ImageDataGenerator(\n",
        "    rescale = 1./255,\n",
        "    horizontal_flip=True,\n",
        "    vertical_flip=True,\n",
        "    shear_range=0.5,\n",
        "    fill_mode='constant',\n",
        ")\n",
        "\n",
        "test_datagen = ImageDataGenerator(rescale=1./255)\n",
        "\n",
        "train_gen = train_datagen.flow_from_directory(\n",
        "    train_dir,\n",
        "    target_size=(100,150),\n",
        "    batch_size = batch_size,\n",
        "    shuffle=True,\n",
        "    color_mode=\"rgb\",\n",
        "    class_mode='categorical'\n",
        ")\n",
        "\n",
        "val_gen = train_datagen.flow_from_directory(\n",
        "    val_dir,\n",
        "    target_size=(100,150),\n",
        "    batch_size = batch_size,\n",
        "    color_mode=\"rgb\",\n",
        "    class_mode='categorical'\n",
        ")\n",
        "\n",
        "test_gen = test_datagen.flow_from_directory(\n",
        "    test_dir,\n",
        "    target_size=(100,150),\n",
        "    batch_size = batch_size,\n",
        "    color_mode=\"rgb\",\n",
        "    class_mode='categorical'\n",
        ")"
      ],
      "execution_count": null,
      "outputs": [
        {
          "output_type": "stream",
          "name": "stdout",
          "text": [
            "Found 3273 images belonging to 2 classes.\n",
            "Found 777 images belonging to 2 classes.\n",
            "Found 42 images belonging to 2 classes.\n"
          ]
        }
      ]
    },
    {
      "cell_type": "markdown",
      "metadata": {
        "id": "W1BCnp1r8hBC"
      },
      "source": [
        "#Set Callback"
      ]
    },
    {
      "cell_type": "code",
      "metadata": {
        "id": "wl1cbKaAmx_C"
      },
      "source": [
        "DESIRED_ACCURACY = 0.975\n",
        "\n",
        "class myCallback(tf.keras.callbacks.Callback):\n",
        "    def on_epoch_end(self, epochs, logs={}) :\n",
        "        if(logs.get('val_acc') is not None and logs.get('val_acc') >= DESIRED_ACCURACY) :\n",
        "            print('\\nReached 97,5% accuracy so cancelling training!')\n",
        "            self.model.stop_training = True\n",
        "\n",
        "callbacks = myCallback()"
      ],
      "execution_count": null,
      "outputs": []
    },
    {
      "cell_type": "markdown",
      "metadata": {
        "id": "aHTi71E08nMd"
      },
      "source": [
        "#Membuat Skema Model CNN"
      ]
    },
    {
      "cell_type": "code",
      "metadata": {
        "id": "4WXuS1O8m7hJ"
      },
      "source": [
        "model2 = tf.keras.models.Sequential([\n",
        "    tf.keras.layers.Conv2D(16, (3,3), activation='relu', input_shape=(100,150,3)),\n",
        "    tf.keras.layers.MaxPooling2D(2,2),\n",
        "    tf.keras.layers.Conv2D(16, (3,3), activation='relu'),\n",
        "    tf.keras.layers.MaxPooling2D(2,2),\n",
        "    tf.keras.layers.Conv2D(16, (3,3), activation='relu'),\n",
        "    tf.keras.layers.MaxPooling2D(2,2),\n",
        "    #Flaten\n",
        "    tf.keras.layers.Flatten(),\n",
        "    #batch normalization\n",
        "    tf.keras.layers.BatchNormalization(),\n",
        "    #dropout\n",
        "    tf.keras.layers.Dropout(0.5, input_shape=(2,)),\n",
        "    #fully connected\n",
        "    tf.keras.layers.Dense(512, activation='relu'),\n",
        "    tf.keras.layers.Dense(2, activation='sigmoid')                                 \n",
        "])"
      ],
      "execution_count": null,
      "outputs": []
    },
    {
      "cell_type": "code",
      "metadata": {
        "colab": {
          "base_uri": "https://localhost:8080/"
        },
        "id": "32Tlglftm95A",
        "outputId": "03132110-3a13-4921-e4f4-13df96b7ab42"
      },
      "source": [
        "model2.summary()"
      ],
      "execution_count": null,
      "outputs": [
        {
          "output_type": "stream",
          "name": "stdout",
          "text": [
            "Model: \"sequential_2\"\n",
            "_________________________________________________________________\n",
            "Layer (type)                 Output Shape              Param #   \n",
            "=================================================================\n",
            "conv2d_6 (Conv2D)            (None, 98, 148, 16)       448       \n",
            "_________________________________________________________________\n",
            "max_pooling2d_6 (MaxPooling2 (None, 49, 74, 16)        0         \n",
            "_________________________________________________________________\n",
            "conv2d_7 (Conv2D)            (None, 47, 72, 16)        2320      \n",
            "_________________________________________________________________\n",
            "max_pooling2d_7 (MaxPooling2 (None, 23, 36, 16)        0         \n",
            "_________________________________________________________________\n",
            "conv2d_8 (Conv2D)            (None, 21, 34, 16)        2320      \n",
            "_________________________________________________________________\n",
            "max_pooling2d_8 (MaxPooling2 (None, 10, 17, 16)        0         \n",
            "_________________________________________________________________\n",
            "flatten_2 (Flatten)          (None, 2720)              0         \n",
            "_________________________________________________________________\n",
            "batch_normalization_2 (Batch (None, 2720)              10880     \n",
            "_________________________________________________________________\n",
            "dropout_2 (Dropout)          (None, 2720)              0         \n",
            "_________________________________________________________________\n",
            "dense_4 (Dense)              (None, 512)               1393152   \n",
            "_________________________________________________________________\n",
            "dense_5 (Dense)              (None, 2)                 1026      \n",
            "=================================================================\n",
            "Total params: 1,410,146\n",
            "Trainable params: 1,404,706\n",
            "Non-trainable params: 5,440\n",
            "_________________________________________________________________\n"
          ]
        }
      ]
    },
    {
      "cell_type": "markdown",
      "metadata": {
        "id": "zTzys7QL8ty3"
      },
      "source": [
        "#Melatih Model CNN"
      ]
    },
    {
      "cell_type": "code",
      "metadata": {
        "colab": {
          "base_uri": "https://localhost:8080/"
        },
        "id": "ZRj1Pag2nASq",
        "outputId": "c8cecd29-58e2-402a-eebb-bf0ddc516a52"
      },
      "source": [
        "train_step_size = train_gen.n//train_gen.batch_size\n",
        "val_step_size = val_gen.n//val_gen.batch_size\n",
        "\n",
        "print(train_step_size)\n",
        "print(val_step_size)"
      ],
      "execution_count": null,
      "outputs": [
        {
          "output_type": "stream",
          "name": "stdout",
          "text": [
            "163\n",
            "38\n"
          ]
        }
      ]
    },
    {
      "cell_type": "code",
      "metadata": {
        "id": "Hp1WqOdAnB_w"
      },
      "source": [
        "model2.compile(loss='categorical_crossentropy',\n",
        "              optimizer='rmsprop',\n",
        "              metrics=['acc'])"
      ],
      "execution_count": null,
      "outputs": []
    },
    {
      "cell_type": "code",
      "metadata": {
        "colab": {
          "base_uri": "https://localhost:8080/"
        },
        "id": "t6eX7l1pnEJA",
        "outputId": "f25f12e0-57f4-455d-c73a-e4c6daae12e8"
      },
      "source": [
        "history = model2.fit_generator(train_gen, steps_per_epoch=87, epochs=100, validation_data= val_gen, validation_steps=10, callbacks=callbacks, verbose=2)"
      ],
      "execution_count": null,
      "outputs": [
        {
          "output_type": "stream",
          "name": "stderr",
          "text": [
            "/usr/local/lib/python3.7/dist-packages/keras/engine/training.py:1972: UserWarning: `Model.fit_generator` is deprecated and will be removed in a future version. Please use `Model.fit`, which supports generators.\n",
            "  warnings.warn('`Model.fit_generator` is deprecated and '\n"
          ]
        },
        {
          "output_type": "stream",
          "name": "stdout",
          "text": [
            "Epoch 1/100\n",
            "87/87 - 30s - loss: 0.5592 - acc: 0.7724 - val_loss: 0.6360 - val_acc: 0.8100\n",
            "Epoch 2/100\n"
          ]
        },
        {
          "output_type": "stream",
          "name": "stderr",
          "text": [
            "/usr/local/lib/python3.7/dist-packages/PIL/Image.py:960: UserWarning: Palette images with Transparency expressed in bytes should be converted to RGBA images\n",
            "  \"Palette images with Transparency expressed in bytes should be \"\n"
          ]
        },
        {
          "output_type": "stream",
          "name": "stdout",
          "text": [
            "87/87 - 29s - loss: 0.3950 - acc: 0.8397 - val_loss: 0.6604 - val_acc: 0.5700\n",
            "Epoch 3/100\n",
            "87/87 - 28s - loss: 0.2597 - acc: 0.9002 - val_loss: 0.5587 - val_acc: 0.9100\n",
            "Epoch 4/100\n",
            "87/87 - 29s - loss: 0.2966 - acc: 0.8869 - val_loss: 0.5865 - val_acc: 0.8100\n",
            "Epoch 5/100\n",
            "87/87 - 29s - loss: 0.2686 - acc: 0.9115 - val_loss: 0.4203 - val_acc: 0.8600\n",
            "Epoch 6/100\n",
            "87/87 - 29s - loss: 0.2591 - acc: 0.9013 - val_loss: 0.3059 - val_acc: 0.8700\n",
            "Epoch 7/100\n",
            "87/87 - 29s - loss: 0.2542 - acc: 0.9140 - val_loss: 0.4025 - val_acc: 0.8400\n",
            "Epoch 8/100\n",
            "87/87 - 30s - loss: 0.2107 - acc: 0.9169 - val_loss: 1.1089 - val_acc: 0.7300\n",
            "Epoch 9/100\n",
            "87/87 - 30s - loss: 0.2190 - acc: 0.9195 - val_loss: 0.3228 - val_acc: 0.8750\n",
            "Epoch 10/100\n",
            "87/87 - 30s - loss: 0.2013 - acc: 0.9305 - val_loss: 0.5908 - val_acc: 0.7150\n",
            "Epoch 11/100\n",
            "87/87 - 29s - loss: 0.2134 - acc: 0.9190 - val_loss: 0.7089 - val_acc: 0.7700\n",
            "Epoch 12/100\n",
            "87/87 - 29s - loss: 0.2038 - acc: 0.9256 - val_loss: 0.1892 - val_acc: 0.9250\n",
            "Epoch 13/100\n",
            "87/87 - 29s - loss: 0.1979 - acc: 0.9224 - val_loss: 0.4468 - val_acc: 0.8600\n",
            "Epoch 14/100\n",
            "87/87 - 29s - loss: 0.1876 - acc: 0.9331 - val_loss: 0.3221 - val_acc: 0.8950\n",
            "Epoch 15/100\n",
            "87/87 - 29s - loss: 0.1854 - acc: 0.9354 - val_loss: 0.1781 - val_acc: 0.9250\n",
            "Epoch 16/100\n",
            "87/87 - 29s - loss: 0.1900 - acc: 0.9354 - val_loss: 0.3532 - val_acc: 0.8800\n",
            "Epoch 17/100\n",
            "87/87 - 28s - loss: 0.1645 - acc: 0.9371 - val_loss: 0.1659 - val_acc: 0.9200\n",
            "Epoch 18/100\n",
            "87/87 - 29s - loss: 0.1767 - acc: 0.9339 - val_loss: 0.2922 - val_acc: 0.9200\n",
            "Epoch 19/100\n",
            "87/87 - 29s - loss: 0.1646 - acc: 0.9425 - val_loss: 0.1389 - val_acc: 0.9500\n",
            "Epoch 20/100\n",
            "87/87 - 29s - loss: 0.1425 - acc: 0.9458 - val_loss: 0.2253 - val_acc: 0.9350\n",
            "Epoch 21/100\n",
            "87/87 - 29s - loss: 0.1750 - acc: 0.9296 - val_loss: 0.1848 - val_acc: 0.9600\n",
            "Epoch 22/100\n",
            "87/87 - 30s - loss: 0.1513 - acc: 0.9437 - val_loss: 0.2326 - val_acc: 0.9400\n",
            "Epoch 23/100\n",
            "87/87 - 29s - loss: 0.1614 - acc: 0.9377 - val_loss: 0.1285 - val_acc: 0.9650\n",
            "Epoch 24/100\n",
            "87/87 - 30s - loss: 0.1499 - acc: 0.9429 - val_loss: 0.1651 - val_acc: 0.9200\n",
            "Epoch 25/100\n",
            "87/87 - 29s - loss: 0.1601 - acc: 0.9400 - val_loss: 0.2977 - val_acc: 0.9200\n",
            "Epoch 26/100\n",
            "87/87 - 29s - loss: 0.1626 - acc: 0.9498 - val_loss: 0.3865 - val_acc: 0.8900\n",
            "Epoch 27/100\n",
            "87/87 - 30s - loss: 0.1506 - acc: 0.9423 - val_loss: 0.2818 - val_acc: 0.8850\n",
            "Epoch 28/100\n",
            "87/87 - 29s - loss: 0.1423 - acc: 0.9529 - val_loss: 0.1736 - val_acc: 0.9300\n",
            "Epoch 29/100\n",
            "87/87 - 29s - loss: 0.1759 - acc: 0.9423 - val_loss: 0.6415 - val_acc: 0.8350\n",
            "Epoch 30/100\n",
            "87/87 - 28s - loss: 0.1779 - acc: 0.9385 - val_loss: 0.4191 - val_acc: 0.8750\n",
            "Epoch 31/100\n",
            "87/87 - 29s - loss: 0.1469 - acc: 0.9492 - val_loss: 0.1043 - val_acc: 0.9550\n",
            "Epoch 32/100\n",
            "87/87 - 28s - loss: 0.1620 - acc: 0.9489 - val_loss: 0.2283 - val_acc: 0.9100\n",
            "Epoch 33/100\n",
            "87/87 - 29s - loss: 0.1178 - acc: 0.9580 - val_loss: 0.3432 - val_acc: 0.9000\n",
            "Epoch 34/100\n",
            "87/87 - 29s - loss: 0.1391 - acc: 0.9575 - val_loss: 0.1624 - val_acc: 0.9450\n",
            "Epoch 35/100\n",
            "87/87 - 30s - loss: 0.1121 - acc: 0.9596 - val_loss: 0.1745 - val_acc: 0.9600\n",
            "Epoch 36/100\n",
            "87/87 - 30s - loss: 0.1448 - acc: 0.9573 - val_loss: 0.2067 - val_acc: 0.9300\n",
            "Epoch 37/100\n",
            "87/87 - 30s - loss: 0.1471 - acc: 0.9506 - val_loss: 0.2260 - val_acc: 0.9350\n",
            "Epoch 38/100\n",
            "87/87 - 29s - loss: 0.1602 - acc: 0.9489 - val_loss: 0.1924 - val_acc: 0.9450\n",
            "Epoch 39/100\n",
            "87/87 - 30s - loss: 0.1375 - acc: 0.9557 - val_loss: 0.2000 - val_acc: 0.9400\n",
            "Epoch 40/100\n",
            "87/87 - 29s - loss: 0.1286 - acc: 0.9506 - val_loss: 1.8898 - val_acc: 0.7350\n",
            "Epoch 41/100\n",
            "87/87 - 29s - loss: 0.1400 - acc: 0.9517 - val_loss: 0.1391 - val_acc: 0.9400\n",
            "Epoch 42/100\n",
            "87/87 - 29s - loss: 0.1316 - acc: 0.9540 - val_loss: 0.1736 - val_acc: 0.9350\n",
            "Epoch 43/100\n",
            "87/87 - 29s - loss: 0.1299 - acc: 0.9511 - val_loss: 0.1424 - val_acc: 0.9400\n",
            "Epoch 44/100\n",
            "87/87 - 29s - loss: 0.1273 - acc: 0.9546 - val_loss: 0.0582 - val_acc: 0.9800\n",
            "\n",
            "Reached 97,5% accuracy so cancelling training!\n"
          ]
        }
      ]
    },
    {
      "cell_type": "markdown",
      "metadata": {
        "id": "jWICpeJGBirB"
      },
      "source": [
        "#Simpan Model dan History"
      ]
    },
    {
      "cell_type": "code",
      "metadata": {
        "id": "WaYNlpA1BUi9"
      },
      "source": [
        "import json\n",
        "\n",
        "target_dir = '/content/drive/MyDrive/Machine Learning/Modul 3/Kegiatan Kelompok/Model/Model 2'\n",
        "\n",
        "# simpan history model pertama\n",
        "history_dict = history.history\n",
        "json.dump(history_dict, open(target_dir + '/history_model2.json', 'w'))\n",
        "\n",
        "# simpan model pertama dan weight-nya\n",
        "model2.save(target_dir + '/model2.h5')\n",
        "model2.save_weights(target_dir + '/weight_model2.hdf5')"
      ],
      "execution_count": null,
      "outputs": []
    },
    {
      "cell_type": "markdown",
      "metadata": {
        "id": "4d3YVZW6I4t4"
      },
      "source": [
        "#Load History Model"
      ]
    },
    {
      "cell_type": "code",
      "metadata": {
        "id": "4ZT0oec-Iext"
      },
      "source": [
        "import json\n",
        "target_dir = '/content/drive/MyDrive/Machine Learning/Modul 3/Kegiatan Kelompok/Model/Model 2'\n",
        "history = json.load(open(target_dir + '/history_model2.json', 'r'))"
      ],
      "execution_count": null,
      "outputs": []
    },
    {
      "cell_type": "markdown",
      "metadata": {
        "id": "4JEaI5ixIz9E"
      },
      "source": [
        "#Evaluasi Model"
      ]
    },
    {
      "cell_type": "code",
      "metadata": {
        "colab": {
          "base_uri": "https://localhost:8080/",
          "height": 525
        },
        "id": "pj1l0Ud6Ive3",
        "outputId": "f42af221-f450-43be-ccd6-20bfe0b97752"
      },
      "source": [
        "plt.figure(figsize = (20,8))\n",
        "plt.xticks(fontsize='15')\n",
        "plt.yticks(fontsize='15')\n",
        "plt.subplot(1, 2, 1) \n",
        "plt.plot(history['acc'],     label=\"train_acc\")\n",
        "plt.plot(history['val_acc'], label=\"val_acc\")\n",
        "plt.title('Model Accuracy', fontsize=15)\n",
        "plt.ylabel('accuracy', fontsize=15)\n",
        "plt.xlabel('epoch', fontsize=15)\n",
        "plt.legend(loc='upper left', fontsize=15)\n",
        "#plt.show()\n",
        "\n",
        "#plt.figure(figsize = (10,8))\n",
        "plt.xticks(fontsize='15')\n",
        "plt.yticks(fontsize='15')\n",
        "plt.subplot(1, 2, 2) \n",
        "plt.plot(history['loss'],    label=\"train_loss\")\n",
        "plt.plot(history['val_loss'], label=\"val_loss)\")\n",
        "plt.title('Model Loss', fontsize=15)\n",
        "plt.ylabel('loss', fontsize=15)\n",
        "plt.xlabel('epoch', fontsize=15)\n",
        "plt.legend(loc='upper left', fontsize=15)\n",
        "plt.show()"
      ],
      "execution_count": null,
      "outputs": [
        {
          "output_type": "display_data",
          "data": {
            "image/png": "[encoded data removed]",
            "text/plain": [
              "<Figure size 1440x576 with 2 Axes>"
            ]
          },
          "metadata": {
            "needs_background": "light"
          }
        }
      ]
    },
    {
      "cell_type": "markdown",
      "metadata": {
        "id": "SBznsdNLJJ_T"
      },
      "source": [
        "#Load Model"
      ]
    },
    {
      "cell_type": "code",
      "metadata": {
        "id": "5YEHyDtdIyu2"
      },
      "source": [
        "from keras.models import load_model\n",
        "\n",
        "# load model pertama\n",
        "target_dir = '/content/drive/MyDrive/Machine Learning/Modul 3/Kegiatan Kelompok/Model/Model 2'\n",
        "model_saved = load_model(target_dir + '/model2.h5')"
      ],
      "execution_count": null,
      "outputs": []
    },
    {
      "cell_type": "code",
      "metadata": {
        "colab": {
          "base_uri": "https://localhost:8080/"
        },
        "id": "pXdH6Ot4JTxJ",
        "outputId": "d0a07e4b-ecc8-443f-d5c9-0093379b1541"
      },
      "source": [
        "test_datagen = ImageDataGenerator(rescale = 1./255)\n",
        "test_gen = test_datagen.flow_from_directory(\n",
        "    test_dir,\n",
        "    target_size=(100,150),\n",
        "    class_mode='categorical',\n",
        "    color_mode=\"rgb\",\n",
        "    shuffle=False,\n",
        "    batch_size=batch_size\n",
        ")"
      ],
      "execution_count": null,
      "outputs": [
        {
          "output_type": "stream",
          "name": "stdout",
          "text": [
            "Found 42 images belonging to 2 classes.\n"
          ]
        }
      ]
    },
    {
      "cell_type": "markdown",
      "metadata": {
        "id": "PGDXk_vIJyXU"
      },
      "source": [
        "#Evaluasi Model (Classsification Report)"
      ]
    },
    {
      "cell_type": "code",
      "metadata": {
        "id": "D2hNLgx4JWwI"
      },
      "source": [
        "from sklearn.metrics import classification_report\n",
        "import numpy as np"
      ],
      "execution_count": null,
      "outputs": []
    },
    {
      "cell_type": "code",
      "metadata": {
        "colab": {
          "base_uri": "https://localhost:8080/"
        },
        "id": "HJKQbriJJZgo",
        "outputId": "eec5f23c-9181-4aa3-97e7-2cfd5648fa03"
      },
      "source": [
        "#Print Classification Report\n",
        "#Print the Target names\n",
        "\n",
        "target_names = []\n",
        "\n",
        "for key in train_gen.class_indices:\n",
        "    target_names.append(key)\n",
        "\n",
        "Y_pred = model_saved.predict_generator(test_gen)\n",
        "y_pred = np.argmax(Y_pred, axis=1)\n",
        "\n",
        "print('Classification Report')\n",
        "print(classification_report(test_gen.classes, y_pred, target_names=target_names))"
      ],
      "execution_count": null,
      "outputs": [
        {
          "output_type": "stream",
          "name": "stderr",
          "text": [
            "/usr/local/lib/python3.7/dist-packages/keras/engine/training.py:2035: UserWarning: `Model.predict_generator` is deprecated and will be removed in a future version. Please use `Model.predict`, which supports generators.\n",
            "  warnings.warn('`Model.predict_generator` is deprecated and '\n"
          ]
        },
        {
          "output_type": "stream",
          "name": "stdout",
          "text": [
            "Classification Report\n",
            "              precision    recall  f1-score   support\n",
            "\n",
            "   with_mask       1.00      0.95      0.98        22\n",
            "without_mask       0.95      1.00      0.98        20\n",
            "\n",
            "    accuracy                           0.98        42\n",
            "   macro avg       0.98      0.98      0.98        42\n",
            "weighted avg       0.98      0.98      0.98        42\n",
            "\n"
          ]
        }
      ]
    },
    {
      "cell_type": "markdown",
      "metadata": {
        "id": "fYyaR4OxJ3Qw"
      },
      "source": [
        "#Evaluasi Model (Matrix Confusion)"
      ]
    },
    {
      "cell_type": "code",
      "metadata": {
        "id": "GMI4RmZ3J-7i"
      },
      "source": [
        "from sklearn.metrics import confusion_matrix\n",
        "import seaborn as sns\n",
        "import numpy as np"
      ],
      "execution_count": null,
      "outputs": []
    },
    {
      "cell_type": "code",
      "metadata": {
        "id": "PqBXiAiXKGsQ",
        "colab": {
          "base_uri": "https://localhost:8080/",
          "height": 416
        },
        "outputId": "b0359351-7f6f-44e3-8aad-f1239218c522"
      },
      "source": [
        "from sklearn import metrics\n",
        "Cmatrix_test = confusion_matrix(test_gen.classes, y_pred)\n",
        "class_names = test_gen.class_indices\n",
        "\n",
        "plt.figure(figsize = (8,6))\n",
        "ax = plt.subplot()\n",
        "sns.set(font_scale=2.0) # Adjust to fit\n",
        "sns.heatmap(Cmatrix_test,annot=True, fmt='',ax=ax, cmap=plt.cm.Reds)\n",
        "\n",
        "# labels, title and ticks\n",
        "label_font = {'size':'15'}  # Adjust to fit\n",
        "ax.set_xlabel('Predicted labels', fontdict=label_font)\n",
        "ax.set_ylabel('True labels', fontdict=label_font) \n",
        "\n",
        "title_font = {'size':'18'}  # Adjust to fit\n",
        "ax.set_title('Confusion Matrix', fontdict=title_font)\n",
        "\n",
        "ax.tick_params(axis='both', which='major', labelsize=15)  # Adjust to fit\n",
        "ax.xaxis.set_ticklabels(class_names)   \n",
        "ax.yaxis.set_ticklabels(class_names)\n",
        "plt.title('Confusion Matrix Test',fontsize=14)\n",
        "plt.show()"
      ],
      "execution_count": null,
      "outputs": [
        {
          "output_type": "display_data",
          "data": {
            "image/png": "[encoded data removed]",
            "text/plain": [
              "<Figure size 576x432 with 2 Axes>"
            ]
          },
          "metadata": {
            "needs_background": "light"
          }
        }
      ]
    }
  ]
}