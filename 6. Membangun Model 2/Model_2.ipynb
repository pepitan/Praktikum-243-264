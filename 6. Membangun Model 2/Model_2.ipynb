{
  "nbformat": 4,
  "nbformat_minor": 0,
  "metadata": {
    "colab": {
      "name": "Model_2.ipynb",
      "provenance": [],
      "collapsed_sections": []
    },
    "kernelspec": {
      "name": "python3",
      "display_name": "Python 3"
    },
    "language_info": {
      "name": "python"
    }
  },
  "cells": [
    {
      "cell_type": "code",
      "metadata": {
        "id": "kDTxjhomm3Sq"
      },
      "source": [
        "# This Python 3 environment comes with many helpful analytics libraries installed\n",
        "# It is defined by the kaggle/python Docker image: https://github.com/kaggle/docker-python\n",
        "# For example, here's several helpful packages to load\n",
        "\n",
        "import numpy as np # linear algebra\n",
        "import pandas as pd # data processing, CSV file I/O (e.g. pd.read_csv)\n",
        "\n",
        "# Input data files are available in the read-only \"../input/\" directory\n",
        "# For example, running this (by clicking run or pressing Shift+Enter) will list all files under the input directory\n",
        "\n",
        "import os\n",
        "# for dirname, _, filenames in os.walk('/kaggle/input'):\n",
        "#     for filename in filenames:\n",
        "#         print(os.path.join(dirname, filename))\n",
        "\n",
        "# You can write up to 20GB to the current directory (/kaggle/working/) that gets preserved as output when you create a version using \"Save & Run All\" \n",
        "# You can also write temporary files to /kaggle/temp/, but they won't be saved outside of the current session"
      ],
      "execution_count": 5,
      "outputs": []
    },
    {
      "cell_type": "code",
      "metadata": {
        "id": "3nFi0mRQnMGU"
      },
      "source": [
        "import os\n",
        "\n",
        "import pandas as pd\n",
        "import numpy as np\n",
        "import warnings\n",
        "warnings.filterwarnings(action=\"ignore\")\n",
        "import matplotlib.pyplot as plt\n",
        "%matplotlib inline\n",
        "import seaborn as sns\n",
        "from sklearn.preprocessing import StandardScaler \n",
        "from sklearn.model_selection import train_test_split \n",
        "from sklearn.metrics import classification_report\n",
        "#tensorflow libraries\n",
        "import tensorflow as tf\n",
        "from tensorflow import keras\n",
        "from tensorflow.keras.models import Sequential\n",
        "from tensorflow.keras.layers import MaxPooling2D, Dense, Dropout,Flatten, Conv2D\n",
        "from tensorflow.keras.optimizers import Adam\n",
        "from tensorflow.keras.losses import SparseCategoricalCrossentropy\n",
        "from keras.preprocessing.image import ImageDataGenerator\n",
        "from tensorflow.keras.callbacks import TensorBoard,EarlyStopping "
      ],
      "execution_count": 6,
      "outputs": []
    },
    {
      "cell_type": "code",
      "metadata": {
        "colab": {
          "base_uri": "https://localhost:8080/"
        },
        "id": "64QipA0coi-u",
        "outputId": "29d3ca10-feb1-472e-e222-dca501cf0d2a"
      },
      "source": [
        "from google.colab import drive\n",
        "drive.mount('/content/drive')"
      ],
      "execution_count": 8,
      "outputs": [
        {
          "output_type": "stream",
          "name": "stdout",
          "text": [
            "Mounted at /content/drive\n"
          ]
        }
      ]
    },
    {
      "cell_type": "code",
      "metadata": {
        "colab": {
          "base_uri": "https://localhost:8080/"
        },
        "id": "CiNis_ndnVDx",
        "outputId": "4c414032-a01b-49d8-92ac-278bf8d6c31d"
      },
      "source": [
        "with_mask_dir = \"/content/drive/My Drive/Machine Learning/Tubes/Dataset/with_mask\"\n",
        "without_mask_dir= \"/content/drive/My Drive/Machine Learning/Tubes/Dataset/without_mask\"\n",
        "filepaths = []\n",
        "labels= []\n",
        "dict_list = [with_mask_dir, without_mask_dir]\n",
        "for i, j in enumerate(dict_list):\n",
        "    flist=os.listdir(j)\n",
        "    for f in flist:\n",
        "        fpath=os.path.join(j,f)\n",
        "        filepaths.append(fpath)\n",
        "        if i==0:\n",
        "          labels.append('with_mask')\n",
        "        else:\n",
        "          labels.append('without_mask') \n",
        "    \n",
        "Fseries = pd.Series(filepaths, name=\"filepaths\")\n",
        "Lseries = pd.Series(labels, name=\"labels\")\n",
        "mask_data = pd.concat([Fseries,Lseries], axis=1)\n",
        "mask_df = pd.DataFrame(mask_data)\n",
        "print(mask_df.head())\n",
        "print(mask_df[\"labels\"].value_counts())"
      ],
      "execution_count": 9,
      "outputs": [
        {
          "output_type": "stream",
          "name": "stdout",
          "text": [
            "                                           filepaths     labels\n",
            "0  /content/drive/My Drive/Machine Learning/Tubes...  with_mask\n",
            "1  /content/drive/My Drive/Machine Learning/Tubes...  with_mask\n",
            "2  /content/drive/My Drive/Machine Learning/Tubes...  with_mask\n",
            "3  /content/drive/My Drive/Machine Learning/Tubes...  with_mask\n",
            "4  /content/drive/My Drive/Machine Learning/Tubes...  with_mask\n",
            "with_mask       2165\n",
            "without_mask    1930\n",
            "Name: labels, dtype: int64\n"
          ]
        }
      ]
    },
    {
      "cell_type": "code",
      "metadata": {
        "colab": {
          "base_uri": "https://localhost:8080/"
        },
        "id": "7Zd8RG6io9hI",
        "outputId": "64c26d09-a88a-4940-f732-75fc29a82137"
      },
      "source": [
        "#shape of datatset\n",
        "mask_df.shape"
      ],
      "execution_count": 10,
      "outputs": [
        {
          "output_type": "execute_result",
          "data": {
            "text/plain": [
              "(4095, 2)"
            ]
          },
          "metadata": {},
          "execution_count": 10
        }
      ]
    },
    {
      "cell_type": "code",
      "metadata": {
        "id": "jxYK0AW7pAJy"
      },
      "source": [
        "train_set, test_images = train_test_split(mask_df, test_size=0.3, random_state=42)\n",
        "test_set, val_set = train_test_split(test_images, test_size=0.2, random_state=42)"
      ],
      "execution_count": 11,
      "outputs": []
    },
    {
      "cell_type": "code",
      "metadata": {
        "colab": {
          "base_uri": "https://localhost:8080/"
        },
        "id": "AlHjwa7ppFqS",
        "outputId": "c4093f2e-b002-4b49-d8bd-4676735e0e90"
      },
      "source": [
        "#Generate batches of tensor image data with real-time data augmentation.\n",
        "image_gen = ImageDataGenerator(preprocessing_function= tf.keras.applications.mobilenet_v2.preprocess_input)\n",
        "\n",
        "train = image_gen.flow_from_dataframe(dataframe= train_set,x_col=\"filepaths\",y_col=\"labels\",\n",
        "                                      target_size=(244,244),\n",
        "                                      color_mode='grayscale',\n",
        "                                      class_mode=\"categorical\", #used for Sequential Model\n",
        "                                      batch_size=32,\n",
        "                                      shuffle=False            #do not shuffle data\n",
        "                                     )\n",
        "\n",
        "test = image_gen.flow_from_dataframe(dataframe= test_set,x_col=\"filepaths\", y_col=\"labels\",\n",
        "                                     target_size=(244,244),\n",
        "                                     color_mode='grayscale',\n",
        "                                     class_mode=\"categorical\",\n",
        "                                     batch_size=32,\n",
        "                                     shuffle= False\n",
        "                                    )\n",
        "\n",
        "val = image_gen.flow_from_dataframe(dataframe= val_set,x_col=\"filepaths\", y_col=\"labels\",\n",
        "                                    target_size=(244,244),\n",
        "                                    color_mode= 'grayscale',\n",
        "                                    class_mode=\"categorical\",\n",
        "                                    batch_size=32,\n",
        "                                    shuffle=False\n",
        "                                   )"
      ],
      "execution_count": 12,
      "outputs": [
        {
          "output_type": "stream",
          "name": "stdout",
          "text": [
            "Found 2863 validated image filenames belonging to 2 classes.\n",
            "Found 983 validated image filenames belonging to 2 classes.\n",
            "Found 246 validated image filenames belonging to 2 classes.\n"
          ]
        }
      ]
    },
    {
      "cell_type": "code",
      "metadata": {
        "colab": {
          "base_uri": "https://localhost:8080/"
        },
        "id": "5DVv6zi1pJol",
        "outputId": "496287dc-6b3a-4344-f9e2-b94fea4914f5"
      },
      "source": [
        "classes=list(train.class_indices.keys())\n",
        "print (classes)"
      ],
      "execution_count": 13,
      "outputs": [
        {
          "output_type": "stream",
          "name": "stdout",
          "text": [
            "['with_mask', 'without_mask']\n"
          ]
        }
      ]
    },
    {
      "cell_type": "code",
      "metadata": {
        "id": "HNOjdKZUpR14"
      },
      "source": [
        "def plot_loss_and_accuracy(history):\n",
        "    history_df = pd.DataFrame(history)\n",
        "    history_df.loc[0:, ['loss', 'val_loss']].plot()\n",
        "    history_df.loc[0:, ['accuracy', 'val_accuracy']].plot()"
      ],
      "execution_count": 16,
      "outputs": []
    },
    {
      "cell_type": "markdown",
      "metadata": {
        "id": "HuZCrL8k-WQa"
      },
      "source": [
        "#Model 2.1"
      ]
    },
    {
      "cell_type": "code",
      "metadata": {
        "colab": {
          "base_uri": "https://localhost:8080/"
        },
        "id": "nsaBnw3ypvN9",
        "outputId": "7cc9f4da-f4b9-4b80-9ee7-9695302d0bf4"
      },
      "source": [
        "import keras\n",
        "from tensorflow.keras import layers\n",
        "\n",
        "CNN_2 = keras.Sequential([\n",
        "    layers.Conv2D(32, kernel_size=(3,3), activation='relu', padding='same', input_shape=(244,244,1)),\n",
        "    layers.MaxPooling2D(pool_size=(2, 2)),\n",
        "    \n",
        "    layers.Conv2D(64, kernel_size=(3,3), activation='relu'),\n",
        "    layers.MaxPooling2D(pool_size=(2, 2)),\n",
        "    \n",
        "    layers.Conv2D(32, kernel_size=(3,3), activation='relu'),\n",
        "    layers.MaxPooling2D(pool_size=(2, 2)),\n",
        "    layers.Dropout(0.25),\n",
        "    \n",
        "    layers.Flatten(),\n",
        "    layers.Dense(64, activation=\"relu\"),\n",
        "    layers.Dropout(0.5),\n",
        "    layers.Dense(2, activation='softmax')\n",
        "])\n",
        "\n",
        "CNN_2.compile(\n",
        "    optimizer='adam',\n",
        "    loss='categorical_crossentropy',\n",
        "    metrics=['accuracy']\n",
        ")\n",
        "CNN_2.optimizer.lr=0.001\n",
        "\n",
        "CNN_2.summary()"
      ],
      "execution_count": 17,
      "outputs": [
        {
          "output_type": "stream",
          "name": "stdout",
          "text": [
            "Model: \"sequential\"\n",
            "_________________________________________________________________\n",
            "Layer (type)                 Output Shape              Param #   \n",
            "=================================================================\n",
            "conv2d (Conv2D)              (None, 244, 244, 32)      320       \n",
            "_________________________________________________________________\n",
            "max_pooling2d (MaxPooling2D) (None, 122, 122, 32)      0         \n",
            "_________________________________________________________________\n",
            "conv2d_1 (Conv2D)            (None, 120, 120, 64)      18496     \n",
            "_________________________________________________________________\n",
            "max_pooling2d_1 (MaxPooling2 (None, 60, 60, 64)        0         \n",
            "_________________________________________________________________\n",
            "conv2d_2 (Conv2D)            (None, 58, 58, 32)        18464     \n",
            "_________________________________________________________________\n",
            "max_pooling2d_2 (MaxPooling2 (None, 29, 29, 32)        0         \n",
            "_________________________________________________________________\n",
            "dropout (Dropout)            (None, 29, 29, 32)        0         \n",
            "_________________________________________________________________\n",
            "flatten (Flatten)            (None, 26912)             0         \n",
            "_________________________________________________________________\n",
            "dense (Dense)                (None, 64)                1722432   \n",
            "_________________________________________________________________\n",
            "dropout_1 (Dropout)          (None, 64)                0         \n",
            "_________________________________________________________________\n",
            "dense_1 (Dense)              (None, 2)                 130       \n",
            "=================================================================\n",
            "Total params: 1,759,842\n",
            "Trainable params: 1,759,842\n",
            "Non-trainable params: 0\n",
            "_________________________________________________________________\n"
          ]
        }
      ]
    },
    {
      "cell_type": "code",
      "metadata": {
        "colab": {
          "base_uri": "https://localhost:8080/"
        },
        "id": "6zSshjCspyGg",
        "outputId": "07bcc6c0-e299-4f98-c8dc-3570e3dab8e6"
      },
      "source": [
        "history_CNN = CNN_2.fit(train, validation_data= val, epochs=15,verbose=1)"
      ],
      "execution_count": 18,
      "outputs": [
        {
          "output_type": "stream",
          "name": "stdout",
          "text": [
            "Epoch 1/15\n",
            "90/90 [==============================] - 1183s 13s/step - loss: 0.5167 - accuracy: 0.7408 - val_loss: 0.3369 - val_accuracy: 0.8577\n",
            "Epoch 2/15\n",
            "90/90 [==============================] - 229s 3s/step - loss: 0.3268 - accuracy: 0.8557 - val_loss: 0.2004 - val_accuracy: 0.9390\n",
            "Epoch 3/15\n",
            "90/90 [==============================] - 230s 3s/step - loss: 0.2105 - accuracy: 0.9127 - val_loss: 0.1892 - val_accuracy: 0.9187\n",
            "Epoch 4/15\n",
            "90/90 [==============================] - 229s 3s/step - loss: 0.1459 - accuracy: 0.9455 - val_loss: 0.1213 - val_accuracy: 0.9675\n",
            "Epoch 5/15\n",
            "90/90 [==============================] - 228s 3s/step - loss: 0.1189 - accuracy: 0.9553 - val_loss: 0.1154 - val_accuracy: 0.9634\n",
            "Epoch 6/15\n",
            "90/90 [==============================] - 227s 3s/step - loss: 0.0809 - accuracy: 0.9714 - val_loss: 0.1135 - val_accuracy: 0.9593\n",
            "Epoch 7/15\n",
            "90/90 [==============================] - 227s 3s/step - loss: 0.0686 - accuracy: 0.9762 - val_loss: 0.1522 - val_accuracy: 0.9472\n",
            "Epoch 8/15\n",
            "90/90 [==============================] - 227s 3s/step - loss: 0.0421 - accuracy: 0.9836 - val_loss: 0.1275 - val_accuracy: 0.9634\n",
            "Epoch 9/15\n",
            "90/90 [==============================] - 227s 3s/step - loss: 0.0301 - accuracy: 0.9895 - val_loss: 0.1342 - val_accuracy: 0.9634\n",
            "Epoch 10/15\n",
            "90/90 [==============================] - 227s 3s/step - loss: 0.0274 - accuracy: 0.9899 - val_loss: 0.1364 - val_accuracy: 0.9512\n",
            "Epoch 11/15\n",
            "90/90 [==============================] - 229s 3s/step - loss: 0.0299 - accuracy: 0.9916 - val_loss: 0.1727 - val_accuracy: 0.9512\n",
            "Epoch 12/15\n",
            "90/90 [==============================] - 230s 3s/step - loss: 0.0209 - accuracy: 0.9948 - val_loss: 0.2320 - val_accuracy: 0.9553\n",
            "Epoch 13/15\n",
            "90/90 [==============================] - 233s 3s/step - loss: 0.0087 - accuracy: 0.9983 - val_loss: 0.2150 - val_accuracy: 0.9634\n",
            "Epoch 14/15\n",
            "90/90 [==============================] - 232s 3s/step - loss: 0.0162 - accuracy: 0.9927 - val_loss: 0.1926 - val_accuracy: 0.9472\n",
            "Epoch 15/15\n",
            "90/90 [==============================] - 232s 3s/step - loss: 0.0209 - accuracy: 0.9920 - val_loss: 0.1280 - val_accuracy: 0.9715\n"
          ]
        }
      ]
    },
    {
      "cell_type": "code",
      "metadata": {
        "colab": {
          "base_uri": "https://localhost:8080/",
          "height": 512
        },
        "id": "A2RL8qLf7XLK",
        "outputId": "673e4fd6-09f8-46f3-a7df-cc10ae8aea40"
      },
      "source": [
        "#resuts from model 1\n",
        "plot_loss_and_accuracy(history_CNN.history)"
      ],
      "execution_count": 19,
      "outputs": [
        {
          "output_type": "display_data",
          "data": {
            "image/png": "[encoded data removed]",
            "text/plain": [
              "<Figure size 432x288 with 1 Axes>"
            ]
          },
          "metadata": {
            "needs_background": "light"
          }
        },
        {
          "output_type": "display_data",
          "data": {
            "image/png": "[encoded data removed]",
            "text/plain": [
              "<Figure size 432x288 with 1 Axes>"
            ]
          },
          "metadata": {
            "needs_background": "light"
          }
        }
      ]
    },
    {
      "cell_type": "code",
      "metadata": {
        "colab": {
          "base_uri": "https://localhost:8080/"
        },
        "id": "T9lynmlO7bnR",
        "outputId": "c9533b6c-2f49-4b7c-e445-48073d2e60e2"
      },
      "source": [
        "pred = CNN_2.predict(test)\n",
        "pred = np.argmax(pred, axis=1) #pick class with highest  probability\n",
        "\n",
        "labels = (train.class_indices)\n",
        "labels = dict((v,k) for k,v in labels.items())\n",
        "pred2 = [labels[k] for k in pred]\n",
        "\n",
        "y_test = test_set.labels # set y_test to the expected output\n",
        "print(classification_report(y_test, pred2))"
      ],
      "execution_count": 20,
      "outputs": [
        {
          "output_type": "stream",
          "name": "stdout",
          "text": [
            "              precision    recall  f1-score   support\n",
            "\n",
            "   with_mask       0.93      0.97      0.95       535\n",
            "without_mask       0.96      0.92      0.94       448\n",
            "\n",
            "    accuracy                           0.94       983\n",
            "   macro avg       0.95      0.94      0.94       983\n",
            "weighted avg       0.94      0.94      0.94       983\n",
            "\n"
          ]
        }
      ]
    },
    {
      "cell_type": "code",
      "metadata": {
        "id": "oeP1O_WpRD7j"
      },
      "source": [
        "import json\n",
        "\n",
        "target_dir = '/content/drive/My Drive/Machine Learning/Tubes/Model 2/Model 2.1'\n",
        "\n",
        "# simpan history model 2.1\n",
        "history_dict = history_CNN.history\n",
        "json.dump(history_dict, open(target_dir + '/history_model_2.1.json', 'w'))\n",
        "\n",
        "# simpan model 2.1 dan weight-nya\n",
        "CNN_2.save(target_dir + '/model_2.1.h5')\n",
        "CNN_2.save_weights(target_dir + '/model_2.1_weights.h5')"
      ],
      "execution_count": 29,
      "outputs": []
    },
    {
      "cell_type": "markdown",
      "metadata": {
        "id": "QuVFkcrQ90yf"
      },
      "source": [
        "#Model 2.2\n"
      ]
    },
    {
      "cell_type": "code",
      "metadata": {
        "colab": {
          "base_uri": "https://localhost:8080/"
        },
        "id": "zh5SXwWh92eX",
        "outputId": "f47742bb-769f-4201-a592-bdd727240006"
      },
      "source": [
        "from tensorflow.keras import layers\n",
        "\n",
        "MyCnn = tf.keras.models.Sequential([\n",
        "  layers.Conv2D(32, 3, activation='relu',input_shape=(244,244,1)),\n",
        "  layers.MaxPooling2D(),\n",
        "    \n",
        "  layers.Conv2D(64, 3, activation='relu'),\n",
        "  layers.MaxPooling2D(),\n",
        "    \n",
        "  layers.Conv2D(128, 3, activation='relu'),\n",
        "  layers.MaxPooling2D(),\n",
        "\n",
        "  layers.GlobalAveragePooling2D(),\n",
        "  layers.Dense(256, activation='relu'),\n",
        "  layers.Dense(2, activation= 'softmax')\n",
        "])\n",
        "\n",
        "MyCnn.compile(\n",
        "    optimizer='adam',\n",
        "    loss='categorical_crossentropy',\n",
        "    metrics=['accuracy']\n",
        ")\n",
        "\n",
        "MyCnn.summary()"
      ],
      "execution_count": 21,
      "outputs": [
        {
          "output_type": "stream",
          "name": "stdout",
          "text": [
            "Model: \"sequential_1\"\n",
            "_________________________________________________________________\n",
            "Layer (type)                 Output Shape              Param #   \n",
            "=================================================================\n",
            "conv2d_3 (Conv2D)            (None, 242, 242, 32)      320       \n",
            "_________________________________________________________________\n",
            "max_pooling2d_3 (MaxPooling2 (None, 121, 121, 32)      0         \n",
            "_________________________________________________________________\n",
            "conv2d_4 (Conv2D)            (None, 119, 119, 64)      18496     \n",
            "_________________________________________________________________\n",
            "max_pooling2d_4 (MaxPooling2 (None, 59, 59, 64)        0         \n",
            "_________________________________________________________________\n",
            "conv2d_5 (Conv2D)            (None, 57, 57, 128)       73856     \n",
            "_________________________________________________________________\n",
            "max_pooling2d_5 (MaxPooling2 (None, 28, 28, 128)       0         \n",
            "_________________________________________________________________\n",
            "global_average_pooling2d (Gl (None, 128)               0         \n",
            "_________________________________________________________________\n",
            "dense_2 (Dense)              (None, 256)               33024     \n",
            "_________________________________________________________________\n",
            "dense_3 (Dense)              (None, 2)                 514       \n",
            "=================================================================\n",
            "Total params: 126,210\n",
            "Trainable params: 126,210\n",
            "Non-trainable params: 0\n",
            "_________________________________________________________________\n"
          ]
        }
      ]
    },
    {
      "cell_type": "code",
      "metadata": {
        "colab": {
          "base_uri": "https://localhost:8080/"
        },
        "id": "XklC8GOV95gY",
        "outputId": "51b5d6bf-7abe-4bd8-fd97-17124f5e2a8f"
      },
      "source": [
        "history_my_CNN = MyCnn.fit(train, validation_data= val, epochs=15,verbose=1)"
      ],
      "execution_count": 22,
      "outputs": [
        {
          "output_type": "stream",
          "name": "stdout",
          "text": [
            "Epoch 1/15\n",
            "90/90 [==============================] - 271s 3s/step - loss: 0.6790 - accuracy: 0.5802 - val_loss: 0.6366 - val_accuracy: 0.7073\n",
            "Epoch 2/15\n",
            "90/90 [==============================] - 269s 3s/step - loss: 0.6287 - accuracy: 0.6479 - val_loss: 0.5713 - val_accuracy: 0.6951\n",
            "Epoch 3/15\n",
            "90/90 [==============================] - 267s 3s/step - loss: 0.5172 - accuracy: 0.7419 - val_loss: 0.4304 - val_accuracy: 0.8211\n",
            "Epoch 4/15\n",
            "90/90 [==============================] - 267s 3s/step - loss: 0.4237 - accuracy: 0.8170 - val_loss: 0.3811 - val_accuracy: 0.8496\n",
            "Epoch 5/15\n",
            "90/90 [==============================] - 266s 3s/step - loss: 0.3556 - accuracy: 0.8453 - val_loss: 0.3319 - val_accuracy: 0.8496\n",
            "Epoch 6/15\n",
            "90/90 [==============================] - 267s 3s/step - loss: 0.2938 - accuracy: 0.8781 - val_loss: 0.3017 - val_accuracy: 0.8699\n",
            "Epoch 7/15\n",
            "90/90 [==============================] - 270s 3s/step - loss: 0.2870 - accuracy: 0.8757 - val_loss: 0.3487 - val_accuracy: 0.8496\n",
            "Epoch 8/15\n",
            "90/90 [==============================] - 269s 3s/step - loss: 0.2411 - accuracy: 0.9001 - val_loss: 0.2903 - val_accuracy: 0.8740\n",
            "Epoch 9/15\n",
            "90/90 [==============================] - 269s 3s/step - loss: 0.2390 - accuracy: 0.8998 - val_loss: 0.2618 - val_accuracy: 0.8943\n",
            "Epoch 10/15\n",
            "90/90 [==============================] - 269s 3s/step - loss: 0.2189 - accuracy: 0.9067 - val_loss: 0.2657 - val_accuracy: 0.8862\n",
            "Epoch 11/15\n",
            "90/90 [==============================] - 268s 3s/step - loss: 0.2123 - accuracy: 0.9134 - val_loss: 0.2763 - val_accuracy: 0.8862\n",
            "Epoch 12/15\n",
            "90/90 [==============================] - 268s 3s/step - loss: 0.1979 - accuracy: 0.9151 - val_loss: 0.2191 - val_accuracy: 0.9106\n",
            "Epoch 13/15\n",
            "90/90 [==============================] - 267s 3s/step - loss: 0.1831 - accuracy: 0.9225 - val_loss: 0.2841 - val_accuracy: 0.8862\n",
            "Epoch 14/15\n",
            "90/90 [==============================] - 266s 3s/step - loss: 0.1891 - accuracy: 0.9235 - val_loss: 0.2402 - val_accuracy: 0.9024\n",
            "Epoch 15/15\n",
            "90/90 [==============================] - 265s 3s/step - loss: 0.1777 - accuracy: 0.9239 - val_loss: 0.2137 - val_accuracy: 0.9065\n"
          ]
        }
      ]
    },
    {
      "cell_type": "code",
      "metadata": {
        "colab": {
          "base_uri": "https://localhost:8080/",
          "height": 516
        },
        "id": "wfU2Txd1O3i4",
        "outputId": "11df9f59-7e8f-4a11-bd1d-fb029656ab17"
      },
      "source": [
        "plot_loss_and_accuracy(history_my_CNN.history)"
      ],
      "execution_count": 23,
      "outputs": [
        {
          "output_type": "display_data",
          "data": {
            "image/png": "[encoded data removed]",
            "text/plain": [
              "<Figure size 432x288 with 1 Axes>"
            ]
          },
          "metadata": {
            "needs_background": "light"
          }
        },
        {
          "output_type": "display_data",
          "data": {
            "image/png": "[encoded data removed]",
            "text/plain": [
              "<Figure size 432x288 with 1 Axes>"
            ]
          },
          "metadata": {
            "needs_background": "light"
          }
        }
      ]
    },
    {
      "cell_type": "code",
      "metadata": {
        "id": "fE41JaJYTfbZ"
      },
      "source": [
        "import json\n",
        "\n",
        "target_dir = '/content/drive/My Drive/Machine Learning/Tubes/Model 2/Model 2.2'\n",
        "\n",
        "# simpan history model 2.2\n",
        "history_dict = history_my_CNN.history\n",
        "json.dump(history_dict, open(target_dir + '/history_model_2.2.json', 'w'))\n",
        "\n",
        "# simpan model 2.2 dan weight-nya\n",
        "MyCnn.save(target_dir + '/model_2.2.h5')\n",
        "MyCnn.save_weights(target_dir + '/model_2.2_weights.h5')"
      ],
      "execution_count": 30,
      "outputs": []
    },
    {
      "cell_type": "markdown",
      "metadata": {
        "id": "kA8JxNi7O7tw"
      },
      "source": [
        "#Confusion Matrix"
      ]
    },
    {
      "cell_type": "code",
      "metadata": {
        "colab": {
          "base_uri": "https://localhost:8080/"
        },
        "id": "Hn0Qda3hO-GO",
        "outputId": "ad27bd86-04a0-4970-dbc6-cb178230baf7"
      },
      "source": [
        "pred_mod2 = MyCnn.predict(test)\n",
        "pred_mod2 = np.argmax(pred_mod2, axis=1) #pick class with highest  probability\n",
        "\n",
        "labels = (train.class_indices)\n",
        "labels = dict((v,k) for k,v in labels.items())\n",
        "pred2_mod2 = [labels[k] for k in pred_mod2]\n",
        "\n",
        "y_test = test_set.labels # set y_test to the expected output\n",
        "print(classification_report(y_test, pred2_mod2))"
      ],
      "execution_count": 24,
      "outputs": [
        {
          "output_type": "stream",
          "name": "stdout",
          "text": [
            "              precision    recall  f1-score   support\n",
            "\n",
            "   with_mask       0.93      0.93      0.93       535\n",
            "without_mask       0.91      0.91      0.91       448\n",
            "\n",
            "    accuracy                           0.92       983\n",
            "   macro avg       0.92      0.92      0.92       983\n",
            "weighted avg       0.92      0.92      0.92       983\n",
            "\n"
          ]
        }
      ]
    },
    {
      "cell_type": "code",
      "metadata": {
        "colab": {
          "base_uri": "https://localhost:8080/",
          "height": 336
        },
        "id": "iKn87DDvPAl0",
        "outputId": "5cae9fe5-6e11-49dc-c878-e945a89281c8"
      },
      "source": [
        "# model 1\n",
        "from sklearn.metrics import confusion_matrix, accuracy_score\n",
        "plt.figure(figsize = (10,5))\n",
        "cm = confusion_matrix(y_test, pred2)\n",
        "sns.heatmap(cm, annot=True, fmt = 'g')"
      ],
      "execution_count": 25,
      "outputs": [
        {
          "output_type": "execute_result",
          "data": {
            "text/plain": [
              "<matplotlib.axes._subplots.AxesSubplot at 0x7f3ca4dac310>"
            ]
          },
          "metadata": {},
          "execution_count": 25
        },
        {
          "output_type": "display_data",
          "data": {
            "image/png": "[encoded data removed]",
            "text/plain": [
              "<Figure size 720x360 with 2 Axes>"
            ]
          },
          "metadata": {
            "needs_background": "light"
          }
        }
      ]
    },
    {
      "cell_type": "code",
      "metadata": {
        "colab": {
          "base_uri": "https://localhost:8080/",
          "height": 336
        },
        "id": "eRv8hd2OPCXk",
        "outputId": "a9e4e6d6-200a-4e5e-af20-01cce1a81185"
      },
      "source": [
        "# model 2\n",
        "from sklearn.metrics import confusion_matrix, accuracy_score\n",
        "plt.figure(figsize = (10,5))\n",
        "cm = confusion_matrix(y_test, pred2_mod2)\n",
        "sns.heatmap(cm, annot=True, fmt = 'g')"
      ],
      "execution_count": 26,
      "outputs": [
        {
          "output_type": "execute_result",
          "data": {
            "text/plain": [
              "<matplotlib.axes._subplots.AxesSubplot at 0x7f3ca48ab350>"
            ]
          },
          "metadata": {},
          "execution_count": 26
        },
        {
          "output_type": "display_data",
          "data": {
            "image/png": "[encoded data removed]",
            "text/plain": [
              "<Figure size 720x360 with 2 Axes>"
            ]
          },
          "metadata": {
            "needs_background": "light"
          }
        }
      ]
    }
  ]
}