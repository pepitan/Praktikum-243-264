{
  "nbformat": 4,
  "nbformat_minor": 0,
  "metadata": {
    "colab": {
      "name": "Model 2.1",
      "provenance": []
    },
    "kernelspec": {
      "name": "python3",
      "display_name": "Python 3"
    },
    "language_info": {
      "name": "python"
    },
    "accelerator": "GPU"
  },
  "cells": [
    {
      "cell_type": "markdown",
      "metadata": {
        "id": "48xgwnQn70_1"
      },
      "source": [
        "#Load Dataset"
      ]
    },
    {
      "cell_type": "code",
      "metadata": {
        "colab": {
          "base_uri": "https://localhost:8080/"
        },
        "id": "g8emHEXyCDMb",
        "outputId": "26107829-e521-4e40-ee21-13b7aaaf1bec"
      },
      "source": [
        "from google.colab import drive\n",
        "drive.mount('/content/drive')"
      ],
      "execution_count": null,
      "outputs": [
        {
          "output_type": "stream",
          "name": "stdout",
          "text": [
            "Mounted at /content/drive\n"
          ]
        }
      ]
    },
    {
      "cell_type": "code",
      "metadata": {
        "id": "XZWrN70qCiTp"
      },
      "source": [
        "with_mask= '/content/drive/MyDrive/Machine Learning/Tubes/Dataset/with_mask'\n",
        "without_mask = '/content/drive/MyDrive/Machine Learning/Tubes/Dataset/without_mask'"
      ],
      "execution_count": null,
      "outputs": []
    },
    {
      "cell_type": "code",
      "metadata": {
        "id": "rskOSPNxDrXH"
      },
      "source": [
        "import os"
      ],
      "execution_count": null,
      "outputs": []
    },
    {
      "cell_type": "code",
      "metadata": {
        "colab": {
          "base_uri": "https://localhost:8080/"
        },
        "id": "mjDr6H-pDdxh",
        "outputId": "be891324-23c5-45ac-ed4d-9423a86c1fe5"
      },
      "source": [
        "print(\"jumlah masker   :\", len(os.listdir(with_mask)))\n",
        "print(\"jumlah tanpa masker    :\", len(os.listdir(without_mask)))"
      ],
      "execution_count": null,
      "outputs": [
        {
          "output_type": "stream",
          "name": "stdout",
          "text": [
            "jumlah masker   : 2165\n",
            "jumlah tanpa masker    : 1930\n"
          ]
        }
      ]
    },
    {
      "cell_type": "code",
      "metadata": {
        "colab": {
          "base_uri": "https://localhost:8080/"
        },
        "id": "oFp3PG4DD3yQ",
        "outputId": "5de85570-9342-461b-804c-efdea8ff522c"
      },
      "source": [
        "!pip install split_folders\n",
        "import splitfolders"
      ],
      "execution_count": null,
      "outputs": [
        {
          "output_type": "stream",
          "name": "stdout",
          "text": [
            "Collecting split_folders\n",
            "  Downloading split_folders-0.4.3-py3-none-any.whl (7.4 kB)\n",
            "Installing collected packages: split-folders\n",
            "Successfully installed split-folders-0.4.3\n"
          ]
        }
      ]
    },
    {
      "cell_type": "code",
      "metadata": {
        "colab": {
          "base_uri": "https://localhost:8080/"
        },
        "id": "3NuQLsmvD7Sd",
        "outputId": "8fa7ac97-3b19-4cc5-bcb7-65df7ea8ae95"
      },
      "source": [
        "input_folder = '/content/drive/MyDrive/Machine Learning/Tubes/Dataset'           \n",
        "output = '/content/drive/MyDrive/Machine Learning/Tubes/Splited Dataset'\n",
        "splitfolders.ratio(input_folder, output = output, seed=42, ratio=(.8, .19, .01))"
      ],
      "execution_count": null,
      "outputs": [
        {
          "output_type": "stream",
          "name": "stderr",
          "text": [
            "Copying files: 4095 files [42:39,  1.60 files/s]\n"
          ]
        }
      ]
    },
    {
      "cell_type": "markdown",
      "metadata": {
        "id": "L-loEYgx8PzB"
      },
      "source": [
        "#Splitting Dataset"
      ]
    },
    {
      "cell_type": "code",
      "metadata": {
        "id": "-5blBjJpOQw2"
      },
      "source": [
        "train_dir = '/content/drive/MyDrive/Machine Learning/Tubes/Splited Dataset/train'\n",
        "val_dir = '/content/drive/MyDrive/Machine Learning/Tubes/Splited Dataset/val'\n",
        "test_dir = '/content/drive/MyDrive/Machine Learning/Tubes/Splited Dataset/test'"
      ],
      "execution_count": null,
      "outputs": []
    },
    {
      "cell_type": "code",
      "metadata": {
        "id": "I2-HZJlUmmJJ"
      },
      "source": [
        "import matplotlib.pyplot as plt \n",
        "from tensorflow.keras.preprocessing.image import ImageDataGenerator, load_img\n",
        "import tensorflow as tf\n",
        "from tensorflow.keras.utils import to_categorical\n",
        "from keras.callbacks import ReduceLROnPlateau"
      ],
      "execution_count": null,
      "outputs": []
    },
    {
      "cell_type": "code",
      "metadata": {
        "id": "oYYWY-nOmoVs"
      },
      "source": [
        "batch_size = 20"
      ],
      "execution_count": null,
      "outputs": []
    },
    {
      "cell_type": "markdown",
      "metadata": {
        "id": "nRVjTRWQ8ThF"
      },
      "source": [
        "#Augmentasi Data"
      ]
    },
    {
      "cell_type": "code",
      "metadata": {
        "colab": {
          "base_uri": "https://localhost:8080/"
        },
        "id": "Yyd2d6gImqY8",
        "outputId": "edb0389f-a0b0-4df6-b11f-5fff8096bf45"
      },
      "source": [
        "train_datagen = ImageDataGenerator(\n",
        "    rescale = 1./255,\n",
        "    horizontal_flip=True,\n",
        "    vertical_flip=True,\n",
        "    shear_range=0.5,\n",
        "    fill_mode='constant',\n",
        ")\n",
        "\n",
        "test_datagen = ImageDataGenerator(rescale=1./255)\n",
        "\n",
        "train_gen = train_datagen.flow_from_directory(\n",
        "    train_dir,\n",
        "    target_size=(100,150),\n",
        "    batch_size = batch_size,\n",
        "    shuffle=True,\n",
        "    color_mode=\"rgb\",\n",
        "    class_mode='categorical'\n",
        ")\n",
        "\n",
        "val_gen = train_datagen.flow_from_directory(\n",
        "    val_dir,\n",
        "    target_size=(100,150),\n",
        "    batch_size = batch_size,\n",
        "    color_mode=\"rgb\",\n",
        "    class_mode='categorical'\n",
        ")\n",
        "\n",
        "test_gen = test_datagen.flow_from_directory(\n",
        "    test_dir,\n",
        "    target_size=(100,150),\n",
        "    batch_size = batch_size,\n",
        "    color_mode=\"rgb\",\n",
        "    class_mode='categorical'\n",
        ")"
      ],
      "execution_count": null,
      "outputs": [
        {
          "output_type": "stream",
          "name": "stdout",
          "text": [
            "Found 3273 images belonging to 2 classes.\n",
            "Found 777 images belonging to 2 classes.\n",
            "Found 42 images belonging to 2 classes.\n"
          ]
        }
      ]
    },
    {
      "cell_type": "markdown",
      "metadata": {
        "id": "W1BCnp1r8hBC"
      },
      "source": [
        "#Set Callback"
      ]
    },
    {
      "cell_type": "code",
      "metadata": {
        "id": "wl1cbKaAmx_C"
      },
      "source": [
        "#DESIRED_ACCURACY = 0.975\n",
        "\n",
        "#class myCallback(tf.keras.callbacks.Callback):\n",
        "#    def on_epoch_end(self, epochs, logs={}) :\n",
        "#        if(logs.get('val_acc') is not None and logs.get('val_acc') >= DESIRED_ACCURACY) :\n",
        "#            print('\\nReached 97,5% accuracy so cancelling training!')\n",
        "#            self.model.stop_training = True\n",
        "\n",
        "#callbacks = myCallback()"
      ],
      "execution_count": null,
      "outputs": []
    },
    {
      "cell_type": "markdown",
      "metadata": {
        "id": "aHTi71E08nMd"
      },
      "source": [
        "#Membuat Skema Model CNN"
      ]
    },
    {
      "cell_type": "code",
      "metadata": {
        "id": "4WXuS1O8m7hJ"
      },
      "source": [
        "model2 = tf.keras.models.Sequential([\n",
        "    tf.keras.layers.Conv2D(32, (3,3), activation='relu', input_shape=(100,150,3)),\n",
        "    tf.keras.layers.MaxPooling2D(2,2),\n",
        "    tf.keras.layers.Conv2D(64, (3,3), activation='relu'),\n",
        "    tf.keras.layers.MaxPooling2D(2,2),\n",
        "    tf.keras.layers.Conv2D(128, (3,3), activation='relu'),\n",
        "    tf.keras.layers.MaxPooling2D(2,2),\n",
        "    #Flaten\n",
        "    tf.keras.layers.Flatten(),\n",
        "    #batch normalization\n",
        "    tf.keras.layers.BatchNormalization(),\n",
        "    #dropout\n",
        "    tf.keras.layers.Dropout(0.5, input_shape=(2,)),\n",
        "    #fully connected\n",
        "    tf.keras.layers.Dense(512, activation='relu'),\n",
        "    tf.keras.layers.Dense(2, activation='sigmoid')                                 \n",
        "])"
      ],
      "execution_count": null,
      "outputs": []
    },
    {
      "cell_type": "code",
      "metadata": {
        "colab": {
          "base_uri": "https://localhost:8080/"
        },
        "id": "32Tlglftm95A",
        "outputId": "75053c5b-71e2-45a7-8553-407c15db9957"
      },
      "source": [
        "model2.summary()"
      ],
      "execution_count": null,
      "outputs": [
        {
          "output_type": "stream",
          "name": "stdout",
          "text": [
            "Model: \"sequential\"\n",
            "_________________________________________________________________\n",
            "Layer (type)                 Output Shape              Param #   \n",
            "=================================================================\n",
            "conv2d (Conv2D)              (None, 98, 148, 32)       896       \n",
            "_________________________________________________________________\n",
            "max_pooling2d (MaxPooling2D) (None, 49, 74, 32)        0         \n",
            "_________________________________________________________________\n",
            "conv2d_1 (Conv2D)            (None, 47, 72, 64)        18496     \n",
            "_________________________________________________________________\n",
            "max_pooling2d_1 (MaxPooling2 (None, 23, 36, 64)        0         \n",
            "_________________________________________________________________\n",
            "conv2d_2 (Conv2D)            (None, 21, 34, 128)       73856     \n",
            "_________________________________________________________________\n",
            "max_pooling2d_2 (MaxPooling2 (None, 10, 17, 128)       0         \n",
            "_________________________________________________________________\n",
            "flatten (Flatten)            (None, 21760)             0         \n",
            "_________________________________________________________________\n",
            "batch_normalization (BatchNo (None, 21760)             87040     \n",
            "_________________________________________________________________\n",
            "dropout (Dropout)            (None, 21760)             0         \n",
            "_________________________________________________________________\n",
            "dense (Dense)                (None, 512)               11141632  \n",
            "_________________________________________________________________\n",
            "dense_1 (Dense)              (None, 2)                 1026      \n",
            "=================================================================\n",
            "Total params: 11,322,946\n",
            "Trainable params: 11,279,426\n",
            "Non-trainable params: 43,520\n",
            "_________________________________________________________________\n"
          ]
        }
      ]
    },
    {
      "cell_type": "markdown",
      "metadata": {
        "id": "zTzys7QL8ty3"
      },
      "source": [
        "#Melatih Model CNN"
      ]
    },
    {
      "cell_type": "code",
      "metadata": {
        "colab": {
          "base_uri": "https://localhost:8080/"
        },
        "id": "ZRj1Pag2nASq",
        "outputId": "70fa48e6-9a86-4423-e1fb-b2f45a65ac51"
      },
      "source": [
        "train_step_size = train_gen.n//train_gen.batch_size\n",
        "val_step_size = val_gen.n//val_gen.batch_size\n",
        "\n",
        "print(train_step_size)\n",
        "print(val_step_size)"
      ],
      "execution_count": null,
      "outputs": [
        {
          "output_type": "stream",
          "name": "stdout",
          "text": [
            "163\n",
            "38\n"
          ]
        }
      ]
    },
    {
      "cell_type": "code",
      "metadata": {
        "id": "Hp1WqOdAnB_w"
      },
      "source": [
        "model2.compile(loss='categorical_crossentropy',\n",
        "              optimizer='rmsprop',      \n",
        "              metrics=['acc'])"
      ],
      "execution_count": null,
      "outputs": []
    },
    {
      "cell_type": "code",
      "metadata": {
        "colab": {
          "base_uri": "https://localhost:8080/"
        },
        "id": "t6eX7l1pnEJA",
        "outputId": "6612e882-c872-4e77-9ee7-5e0971c6ca4f"
      },
      "source": [
        "history = model2.fit_generator(train_gen, steps_per_epoch=87, epochs=100, validation_data= val_gen, validation_steps=10, verbose=2)"
      ],
      "execution_count": null,
      "outputs": [
        {
          "output_type": "stream",
          "name": "stderr",
          "text": [
            "/usr/local/lib/python3.7/dist-packages/keras/engine/training.py:1972: UserWarning: `Model.fit_generator` is deprecated and will be removed in a future version. Please use `Model.fit`, which supports generators.\n",
            "  warnings.warn('`Model.fit_generator` is deprecated and '\n"
          ]
        },
        {
          "output_type": "stream",
          "name": "stdout",
          "text": [
            "Epoch 1/100\n",
            "87/87 - 48s - loss: 1.2795 - acc: 0.7969 - val_loss: 0.6839 - val_acc: 0.7800\n",
            "Epoch 2/100\n",
            "87/87 - 18s - loss: 0.3433 - acc: 0.8621 - val_loss: 0.6724 - val_acc: 0.4950\n",
            "Epoch 3/100\n"
          ]
        },
        {
          "output_type": "stream",
          "name": "stderr",
          "text": [
            "/usr/local/lib/python3.7/dist-packages/PIL/Image.py:960: UserWarning: Palette images with Transparency expressed in bytes should be converted to RGBA images\n",
            "  \"Palette images with Transparency expressed in bytes should be \"\n"
          ]
        },
        {
          "output_type": "stream",
          "name": "stdout",
          "text": [
            "87/87 - 18s - loss: 0.3308 - acc: 0.8777 - val_loss: 0.6709 - val_acc: 0.4400\n",
            "Epoch 4/100\n",
            "87/87 - 17s - loss: 0.2772 - acc: 0.8967 - val_loss: 0.6000 - val_acc: 0.6800\n",
            "Epoch 5/100\n",
            "87/87 - 18s - loss: 0.2580 - acc: 0.8950 - val_loss: 0.4687 - val_acc: 0.7800\n",
            "Epoch 6/100\n",
            "87/87 - 18s - loss: 0.2214 - acc: 0.9134 - val_loss: 0.5510 - val_acc: 0.7350\n",
            "Epoch 7/100\n",
            "87/87 - 17s - loss: 0.2076 - acc: 0.9158 - val_loss: 0.2759 - val_acc: 0.8750\n",
            "Epoch 8/100\n",
            "87/87 - 17s - loss: 0.2030 - acc: 0.9287 - val_loss: 0.2529 - val_acc: 0.9150\n",
            "Epoch 9/100\n",
            "87/87 - 18s - loss: 0.2001 - acc: 0.9279 - val_loss: 0.1320 - val_acc: 0.9500\n",
            "Epoch 10/100\n",
            "87/87 - 17s - loss: 0.1734 - acc: 0.9365 - val_loss: 0.3815 - val_acc: 0.8900\n",
            "Epoch 11/100\n",
            "87/87 - 18s - loss: 0.2078 - acc: 0.9201 - val_loss: 0.3381 - val_acc: 0.8950\n",
            "Epoch 12/100\n",
            "87/87 - 18s - loss: 0.1731 - acc: 0.9345 - val_loss: 2.7532 - val_acc: 0.6950\n",
            "Epoch 13/100\n",
            "87/87 - 17s - loss: 0.1901 - acc: 0.9371 - val_loss: 1.5977 - val_acc: 0.7600\n",
            "Epoch 14/100\n",
            "87/87 - 18s - loss: 0.1633 - acc: 0.9385 - val_loss: 0.2353 - val_acc: 0.9550\n",
            "Epoch 15/100\n",
            "87/87 - 17s - loss: 0.1715 - acc: 0.9385 - val_loss: 0.2087 - val_acc: 0.9200\n",
            "Epoch 16/100\n",
            "87/87 - 17s - loss: 0.1903 - acc: 0.9342 - val_loss: 0.2421 - val_acc: 0.9100\n",
            "Epoch 17/100\n",
            "87/87 - 17s - loss: 0.1599 - acc: 0.9440 - val_loss: 0.4164 - val_acc: 0.8650\n",
            "Epoch 18/100\n",
            "87/87 - 18s - loss: 0.1549 - acc: 0.9477 - val_loss: 0.6748 - val_acc: 0.7850\n",
            "Epoch 19/100\n",
            "87/87 - 18s - loss: 0.1817 - acc: 0.9417 - val_loss: 0.2045 - val_acc: 0.9150\n",
            "Epoch 20/100\n",
            "87/87 - 17s - loss: 0.1426 - acc: 0.9498 - val_loss: 0.6532 - val_acc: 0.7700\n",
            "Epoch 21/100\n",
            "87/87 - 18s - loss: 0.1519 - acc: 0.9477 - val_loss: 0.3644 - val_acc: 0.9000\n",
            "Epoch 22/100\n",
            "87/87 - 17s - loss: 0.1592 - acc: 0.9521 - val_loss: 0.5024 - val_acc: 0.9200\n",
            "Epoch 23/100\n",
            "87/87 - 18s - loss: 0.1583 - acc: 0.9481 - val_loss: 0.1354 - val_acc: 0.9550\n",
            "Epoch 24/100\n",
            "87/87 - 18s - loss: 0.1444 - acc: 0.9511 - val_loss: 0.4726 - val_acc: 0.8950\n",
            "Epoch 25/100\n",
            "87/87 - 17s - loss: 0.1438 - acc: 0.9569 - val_loss: 1.0074 - val_acc: 0.7800\n",
            "Epoch 26/100\n",
            "87/87 - 17s - loss: 0.1497 - acc: 0.9544 - val_loss: 0.6733 - val_acc: 0.8800\n",
            "Epoch 27/100\n",
            "87/87 - 18s - loss: 0.1478 - acc: 0.9504 - val_loss: 1.5869 - val_acc: 0.6850\n",
            "Epoch 28/100\n",
            "87/87 - 18s - loss: 0.1543 - acc: 0.9500 - val_loss: 0.1304 - val_acc: 0.9350\n",
            "Epoch 29/100\n",
            "87/87 - 18s - loss: 0.1418 - acc: 0.9544 - val_loss: 0.1836 - val_acc: 0.9350\n",
            "Epoch 30/100\n",
            "87/87 - 18s - loss: 0.1142 - acc: 0.9602 - val_loss: 1.1028 - val_acc: 0.8350\n",
            "Epoch 31/100\n",
            "87/87 - 18s - loss: 0.1400 - acc: 0.9579 - val_loss: 0.1678 - val_acc: 0.9550\n",
            "Epoch 32/100\n",
            "87/87 - 18s - loss: 0.1029 - acc: 0.9649 - val_loss: 0.0579 - val_acc: 0.9800\n",
            "Epoch 33/100\n",
            "87/87 - 17s - loss: 0.1046 - acc: 0.9642 - val_loss: 0.1476 - val_acc: 0.9500\n",
            "Epoch 34/100\n",
            "87/87 - 16s - loss: 0.1231 - acc: 0.9590 - val_loss: 0.5370 - val_acc: 0.9000\n",
            "Epoch 35/100\n",
            "87/87 - 18s - loss: 0.0928 - acc: 0.9665 - val_loss: 0.7164 - val_acc: 0.8950\n",
            "Epoch 36/100\n",
            "87/87 - 18s - loss: 0.1253 - acc: 0.9580 - val_loss: 0.3216 - val_acc: 0.9300\n",
            "Epoch 37/100\n",
            "87/87 - 18s - loss: 0.1458 - acc: 0.9557 - val_loss: 0.1740 - val_acc: 0.9300\n",
            "Epoch 38/100\n",
            "87/87 - 17s - loss: 0.1148 - acc: 0.9671 - val_loss: 0.1952 - val_acc: 0.9750\n",
            "Epoch 39/100\n",
            "87/87 - 18s - loss: 0.1190 - acc: 0.9613 - val_loss: 0.2493 - val_acc: 0.9400\n",
            "Epoch 40/100\n",
            "87/87 - 17s - loss: 0.1266 - acc: 0.9625 - val_loss: 0.3848 - val_acc: 0.9300\n",
            "Epoch 41/100\n",
            "87/87 - 18s - loss: 0.1167 - acc: 0.9660 - val_loss: 1.1387 - val_acc: 0.7700\n",
            "Epoch 42/100\n",
            "87/87 - 18s - loss: 0.1271 - acc: 0.9648 - val_loss: 0.4356 - val_acc: 0.9150\n",
            "Epoch 43/100\n",
            "87/87 - 18s - loss: 0.1153 - acc: 0.9649 - val_loss: 0.1051 - val_acc: 0.9500\n",
            "Epoch 44/100\n",
            "87/87 - 18s - loss: 0.1114 - acc: 0.9654 - val_loss: 0.1890 - val_acc: 0.9400\n",
            "Epoch 45/100\n",
            "87/87 - 18s - loss: 0.1353 - acc: 0.9655 - val_loss: 2.0094 - val_acc: 0.7300\n",
            "Epoch 46/100\n",
            "87/87 - 18s - loss: 0.0962 - acc: 0.9678 - val_loss: 0.5226 - val_acc: 0.8350\n",
            "Epoch 47/100\n",
            "87/87 - 18s - loss: 0.1003 - acc: 0.9747 - val_loss: 0.9368 - val_acc: 0.9100\n",
            "Epoch 48/100\n",
            "87/87 - 18s - loss: 0.1073 - acc: 0.9711 - val_loss: 0.0556 - val_acc: 0.9900\n",
            "Epoch 49/100\n",
            "87/87 - 17s - loss: 0.1061 - acc: 0.9654 - val_loss: 0.2509 - val_acc: 0.9450\n",
            "Epoch 50/100\n",
            "87/87 - 17s - loss: 0.1072 - acc: 0.9661 - val_loss: 0.4670 - val_acc: 0.9200\n",
            "Epoch 51/100\n",
            "87/87 - 18s - loss: 0.1163 - acc: 0.9665 - val_loss: 0.0712 - val_acc: 0.9700\n",
            "Epoch 52/100\n",
            "87/87 - 17s - loss: 0.0962 - acc: 0.9683 - val_loss: 0.3357 - val_acc: 0.9500\n",
            "Epoch 53/100\n",
            "87/87 - 17s - loss: 0.0861 - acc: 0.9752 - val_loss: 1.0791 - val_acc: 0.8600\n",
            "Epoch 54/100\n",
            "87/87 - 17s - loss: 0.0956 - acc: 0.9667 - val_loss: 0.3736 - val_acc: 0.9600\n",
            "Epoch 55/100\n",
            "87/87 - 18s - loss: 0.1022 - acc: 0.9672 - val_loss: 0.3682 - val_acc: 0.9450\n",
            "Epoch 56/100\n",
            "87/87 - 18s - loss: 0.1485 - acc: 0.9580 - val_loss: 0.2715 - val_acc: 0.9600\n",
            "Epoch 57/100\n",
            "87/87 - 17s - loss: 0.0941 - acc: 0.9759 - val_loss: 0.3957 - val_acc: 0.9150\n",
            "Epoch 58/100\n",
            "87/87 - 17s - loss: 0.0930 - acc: 0.9753 - val_loss: 0.2065 - val_acc: 0.9400\n",
            "Epoch 59/100\n",
            "87/87 - 18s - loss: 0.1013 - acc: 0.9740 - val_loss: 0.1247 - val_acc: 0.9850\n",
            "Epoch 60/100\n",
            "87/87 - 17s - loss: 0.0916 - acc: 0.9694 - val_loss: 0.3992 - val_acc: 0.9350\n",
            "Epoch 61/100\n",
            "87/87 - 18s - loss: 0.0876 - acc: 0.9740 - val_loss: 0.0987 - val_acc: 0.9650\n",
            "Epoch 62/100\n",
            "87/87 - 18s - loss: 0.0806 - acc: 0.9775 - val_loss: 0.3487 - val_acc: 0.9350\n",
            "Epoch 63/100\n",
            "87/87 - 17s - loss: 0.0869 - acc: 0.9729 - val_loss: 0.2662 - val_acc: 0.9400\n",
            "Epoch 64/100\n",
            "87/87 - 18s - loss: 0.0868 - acc: 0.9752 - val_loss: 0.5633 - val_acc: 0.9400\n",
            "Epoch 65/100\n",
            "87/87 - 18s - loss: 0.0856 - acc: 0.9741 - val_loss: 0.1499 - val_acc: 0.9550\n",
            "Epoch 66/100\n",
            "87/87 - 17s - loss: 0.1069 - acc: 0.9654 - val_loss: 0.2708 - val_acc: 0.9400\n",
            "Epoch 67/100\n",
            "87/87 - 18s - loss: 0.0962 - acc: 0.9747 - val_loss: 0.7363 - val_acc: 0.9000\n",
            "Epoch 68/100\n",
            "87/87 - 18s - loss: 0.0888 - acc: 0.9723 - val_loss: 0.7765 - val_acc: 0.8600\n",
            "Epoch 69/100\n",
            "87/87 - 18s - loss: 0.1171 - acc: 0.9683 - val_loss: 0.1642 - val_acc: 0.9500\n",
            "Epoch 70/100\n",
            "87/87 - 17s - loss: 0.1072 - acc: 0.9706 - val_loss: 0.3733 - val_acc: 0.9350\n",
            "Epoch 71/100\n",
            "87/87 - 18s - loss: 0.0707 - acc: 0.9724 - val_loss: 0.1976 - val_acc: 0.9450\n",
            "Epoch 72/100\n",
            "87/87 - 17s - loss: 0.0791 - acc: 0.9729 - val_loss: 0.2376 - val_acc: 0.9700\n",
            "Epoch 73/100\n",
            "87/87 - 18s - loss: 0.1209 - acc: 0.9694 - val_loss: 1.9279 - val_acc: 0.6600\n",
            "Epoch 74/100\n",
            "87/87 - 17s - loss: 0.1225 - acc: 0.9661 - val_loss: 0.3148 - val_acc: 0.9050\n",
            "Epoch 75/100\n",
            "87/87 - 18s - loss: 0.0911 - acc: 0.9736 - val_loss: 0.5923 - val_acc: 0.8550\n",
            "Epoch 76/100\n",
            "87/87 - 17s - loss: 0.1262 - acc: 0.9694 - val_loss: 1.7009 - val_acc: 0.7600\n",
            "Epoch 77/100\n",
            "87/87 - 18s - loss: 0.0963 - acc: 0.9683 - val_loss: 0.2357 - val_acc: 0.9350\n",
            "Epoch 78/100\n",
            "87/87 - 18s - loss: 0.0867 - acc: 0.9776 - val_loss: 0.1852 - val_acc: 0.9650\n",
            "Epoch 79/100\n",
            "87/87 - 17s - loss: 0.0707 - acc: 0.9781 - val_loss: 0.2183 - val_acc: 0.9400\n",
            "Epoch 80/100\n",
            "87/87 - 18s - loss: 0.1090 - acc: 0.9660 - val_loss: 0.3155 - val_acc: 0.9350\n",
            "Epoch 81/100\n",
            "87/87 - 17s - loss: 0.0903 - acc: 0.9752 - val_loss: 0.2743 - val_acc: 0.9400\n",
            "Epoch 82/100\n",
            "87/87 - 18s - loss: 0.0907 - acc: 0.9740 - val_loss: 0.5814 - val_acc: 0.9400\n",
            "Epoch 83/100\n",
            "87/87 - 17s - loss: 0.0999 - acc: 0.9694 - val_loss: 0.1936 - val_acc: 0.9400\n",
            "Epoch 84/100\n",
            "87/87 - 17s - loss: 0.0967 - acc: 0.9706 - val_loss: 0.2031 - val_acc: 0.9500\n",
            "Epoch 85/100\n",
            "87/87 - 17s - loss: 0.0644 - acc: 0.9805 - val_loss: 0.2747 - val_acc: 0.9450\n",
            "Epoch 86/100\n",
            "87/87 - 17s - loss: 0.0805 - acc: 0.9775 - val_loss: 0.6868 - val_acc: 0.9250\n",
            "Epoch 87/100\n",
            "87/87 - 18s - loss: 0.0816 - acc: 0.9763 - val_loss: 0.3746 - val_acc: 0.9400\n",
            "Epoch 88/100\n",
            "87/87 - 17s - loss: 0.0891 - acc: 0.9740 - val_loss: 0.2328 - val_acc: 0.9550\n",
            "Epoch 89/100\n",
            "87/87 - 17s - loss: 0.0637 - acc: 0.9786 - val_loss: 0.2776 - val_acc: 0.9450\n",
            "Epoch 90/100\n",
            "87/87 - 18s - loss: 0.0795 - acc: 0.9730 - val_loss: 0.1645 - val_acc: 0.9600\n",
            "Epoch 91/100\n",
            "87/87 - 17s - loss: 0.0793 - acc: 0.9805 - val_loss: 0.1882 - val_acc: 0.9750\n",
            "Epoch 92/100\n",
            "87/87 - 17s - loss: 0.1045 - acc: 0.9718 - val_loss: 0.2430 - val_acc: 0.9550\n",
            "Epoch 93/100\n",
            "87/87 - 18s - loss: 0.0836 - acc: 0.9838 - val_loss: 0.2193 - val_acc: 0.9500\n",
            "Epoch 94/100\n",
            "87/87 - 17s - loss: 0.0545 - acc: 0.9804 - val_loss: 0.4416 - val_acc: 0.9450\n",
            "Epoch 95/100\n",
            "87/87 - 18s - loss: 0.0768 - acc: 0.9770 - val_loss: 0.1622 - val_acc: 0.9500\n",
            "Epoch 96/100\n",
            "87/87 - 17s - loss: 0.0552 - acc: 0.9862 - val_loss: 0.1264 - val_acc: 0.9650\n",
            "Epoch 97/100\n",
            "87/87 - 17s - loss: 0.0825 - acc: 0.9741 - val_loss: 0.7414 - val_acc: 0.8950\n",
            "Epoch 98/100\n",
            "87/87 - 18s - loss: 0.0591 - acc: 0.9798 - val_loss: 0.2339 - val_acc: 0.9700\n",
            "Epoch 99/100\n",
            "87/87 - 17s - loss: 0.0827 - acc: 0.9821 - val_loss: 0.2502 - val_acc: 0.9700\n",
            "Epoch 100/100\n",
            "87/87 - 18s - loss: 0.0781 - acc: 0.9804 - val_loss: 0.2195 - val_acc: 0.9650\n"
          ]
        }
      ]
    },
    {
      "cell_type": "markdown",
      "metadata": {
        "id": "jWICpeJGBirB"
      },
      "source": [
        "#Simpan Model dan History"
      ]
    },
    {
      "cell_type": "code",
      "metadata": {
        "id": "WaYNlpA1BUi9"
      },
      "source": [
        "import json\n",
        "\n",
        "target_dir = '/content/drive/MyDrive/Machine Learning/Tubes/Model'\n",
        "\n",
        "# simpan history model pertama\n",
        "history_dict = history.history\n",
        "json.dump(history_dict, open(target_dir + '/history_model2.json', 'w'))\n",
        "\n",
        "# simpan model pertama dan weight-nya\n",
        "model2.save(target_dir + '/model2.h5')\n",
        "model2.save_weights(target_dir + '/weight_model2.hdf5')"
      ],
      "execution_count": null,
      "outputs": []
    },
    {
      "cell_type": "markdown",
      "metadata": {
        "id": "4d3YVZW6I4t4"
      },
      "source": [
        "#Load History Model"
      ]
    },
    {
      "cell_type": "code",
      "metadata": {
        "id": "4ZT0oec-Iext"
      },
      "source": [
        "import json\n",
        "target_dir = '/content/drive/MyDrive/Machine Learning/Tubes/Model'\n",
        "history = json.load(open(target_dir + '/history_model2.json', 'r'))"
      ],
      "execution_count": null,
      "outputs": []
    },
    {
      "cell_type": "markdown",
      "metadata": {
        "id": "4JEaI5ixIz9E"
      },
      "source": [
        "#Evaluasi Model"
      ]
    },
    {
      "cell_type": "code",
      "metadata": {
        "colab": {
          "base_uri": "https://localhost:8080/",
          "height": 524
        },
        "id": "pj1l0Ud6Ive3",
        "outputId": "7b28cad2-68c1-42a2-f3ff-adab0096dc3f"
      },
      "source": [
        "plt.figure(figsize = (20,8))\n",
        "plt.xticks(fontsize='15')\n",
        "plt.yticks(fontsize='15')\n",
        "plt.subplot(1, 2, 1) \n",
        "plt.plot(history['acc'],     label=\"train_acc\")\n",
        "plt.plot(history['val_acc'], label=\"val_acc\")\n",
        "plt.title('Model Accuracy', fontsize=15)\n",
        "plt.ylabel('accuracy', fontsize=15)\n",
        "plt.xlabel('epoch', fontsize=15)\n",
        "plt.legend(loc='upper left', fontsize=15)\n",
        "#plt.show()\n",
        "\n",
        "#plt.figure(figsize = (10,8))\n",
        "plt.xticks(fontsize='15')\n",
        "plt.yticks(fontsize='15')\n",
        "plt.subplot(1, 2, 2) \n",
        "plt.plot(history['loss'],    label=\"train_loss\")\n",
        "plt.plot(history['val_loss'], label=\"val_loss)\")\n",
        "plt.title('Model Loss', fontsize=15)\n",
        "plt.ylabel('loss', fontsize=15)\n",
        "plt.xlabel('epoch', fontsize=15)\n",
        "plt.legend(loc='upper left', fontsize=15)\n",
        "plt.show()"
      ],
      "execution_count": null,
      "outputs": [
        {
          "output_type": "display_data",
          "data": {
            "image/png": "[encoded data removed]",
            "text/plain": [
              "<Figure size 1440x576 with 2 Axes>"
            ]
          },
          "metadata": {
            "needs_background": "light"
          }
        }
      ]
    },
    {
      "cell_type": "markdown",
      "metadata": {
        "id": "SBznsdNLJJ_T"
      },
      "source": [
        "#Load Model"
      ]
    },
    {
      "cell_type": "code",
      "metadata": {
        "id": "5YEHyDtdIyu2"
      },
      "source": [
        "from keras.models import load_model\n",
        "\n",
        "# load model pertama\n",
        "target_dir = '/content/drive/MyDrive/Machine Learning/Tubes/Model'\n",
        "model_saved = load_model(target_dir + '/model2.h5')"
      ],
      "execution_count": null,
      "outputs": []
    },
    {
      "cell_type": "code",
      "metadata": {
        "colab": {
          "base_uri": "https://localhost:8080/"
        },
        "id": "pXdH6Ot4JTxJ",
        "outputId": "a0cd9e6a-ec3b-4157-b3f7-7caf33174f68"
      },
      "source": [
        "test_datagen = ImageDataGenerator(rescale = 1./255)\n",
        "test_gen = test_datagen.flow_from_directory(\n",
        "    test_dir,\n",
        "    target_size=(100,150),\n",
        "    class_mode='categorical',\n",
        "    color_mode=\"rgb\",\n",
        "    shuffle=False,\n",
        "    batch_size=batch_size\n",
        ")"
      ],
      "execution_count": null,
      "outputs": [
        {
          "output_type": "stream",
          "name": "stdout",
          "text": [
            "Found 42 images belonging to 2 classes.\n"
          ]
        }
      ]
    },
    {
      "cell_type": "markdown",
      "metadata": {
        "id": "PGDXk_vIJyXU"
      },
      "source": [
        "#Evaluasi Model (Classsification Report)"
      ]
    },
    {
      "cell_type": "code",
      "metadata": {
        "id": "D2hNLgx4JWwI"
      },
      "source": [
        "from sklearn.metrics import classification_report\n",
        "import numpy as np"
      ],
      "execution_count": null,
      "outputs": []
    },
    {
      "cell_type": "code",
      "metadata": {
        "colab": {
          "base_uri": "https://localhost:8080/"
        },
        "id": "HJKQbriJJZgo",
        "outputId": "5d7ed688-6945-4139-d981-25f708064613"
      },
      "source": [
        "#Print Classification Report\n",
        "#Print the Target names\n",
        "\n",
        "target_names = []\n",
        "\n",
        "for key in train_gen.class_indices:\n",
        "    target_names.append(key)\n",
        "\n",
        "Y_pred = model_saved.predict_generator(test_gen)\n",
        "y_pred = np.argmax(Y_pred, axis=1)\n",
        "\n",
        "print('Classification Report')\n",
        "print(classification_report(test_gen.classes, y_pred, target_names=target_names))"
      ],
      "execution_count": null,
      "outputs": [
        {
          "output_type": "stream",
          "name": "stderr",
          "text": [
            "/usr/local/lib/python3.7/dist-packages/keras/engine/training.py:2035: UserWarning: `Model.predict_generator` is deprecated and will be removed in a future version. Please use `Model.predict`, which supports generators.\n",
            "  warnings.warn('`Model.predict_generator` is deprecated and '\n"
          ]
        },
        {
          "output_type": "stream",
          "name": "stdout",
          "text": [
            "Classification Report\n",
            "              precision    recall  f1-score   support\n",
            "\n",
            "   with_mask       1.00      1.00      1.00        22\n",
            "without_mask       1.00      1.00      1.00        20\n",
            "\n",
            "    accuracy                           1.00        42\n",
            "   macro avg       1.00      1.00      1.00        42\n",
            "weighted avg       1.00      1.00      1.00        42\n",
            "\n"
          ]
        }
      ]
    },
    {
      "cell_type": "markdown",
      "metadata": {
        "id": "fYyaR4OxJ3Qw"
      },
      "source": [
        "#Evaluasi Model (Matrix Confusion)"
      ]
    },
    {
      "cell_type": "code",
      "metadata": {
        "id": "GMI4RmZ3J-7i"
      },
      "source": [
        "from sklearn.metrics import confusion_matrix\n",
        "import seaborn as sns\n",
        "import numpy as np"
      ],
      "execution_count": null,
      "outputs": []
    },
    {
      "cell_type": "code",
      "metadata": {
        "id": "PqBXiAiXKGsQ",
        "colab": {
          "base_uri": "https://localhost:8080/",
          "height": 415
        },
        "outputId": "371e0113-a886-4918-e51e-ac4503a5394e"
      },
      "source": [
        "from sklearn import metrics\n",
        "Cmatrix_test = confusion_matrix(test_gen.classes, y_pred)\n",
        "class_names = test_gen.class_indices\n",
        "\n",
        "plt.figure(figsize = (8,6))\n",
        "ax = plt.subplot()\n",
        "sns.set(font_scale=2.0) # Adjust to fit\n",
        "sns.heatmap(Cmatrix_test,annot=True, fmt='',ax=ax, cmap=plt.cm.Reds)\n",
        "\n",
        "# labels, title and ticks\n",
        "label_font = {'size':'15'}  # Adjust to fit\n",
        "ax.set_xlabel('Predicted labels', fontdict=label_font)\n",
        "ax.set_ylabel('True labels', fontdict=label_font) \n",
        "\n",
        "title_font = {'size':'18'}  # Adjust to fit\n",
        "ax.set_title('Confusion Matrix', fontdict=title_font)\n",
        "\n",
        "ax.tick_params(axis='both', which='major', labelsize=15)  # Adjust to fit\n",
        "ax.xaxis.set_ticklabels(class_names)   \n",
        "ax.yaxis.set_ticklabels(class_names)\n",
        "plt.title('Confusion Matrix Test',fontsize=14)\n",
        "plt.show()"
      ],
      "execution_count": null,
      "outputs": [
        {
          "output_type": "display_data",
          "data": {
            "image/png": "[encoded data removed]",
            "text/plain": [
              "<Figure size 576x432 with 2 Axes>"
            ]
          },
          "metadata": {
            "needs_background": "light"
          }
        }
      ]
    }
  ]
}