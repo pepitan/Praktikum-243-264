{
  "nbformat": 4,
  "nbformat_minor": 0,
  "metadata": {
    "colab": {
      "name": "Preprocessing Dataset.ipynb",
      "provenance": []
    },
    "kernelspec": {
      "name": "python3",
      "display_name": "Python 3"
    },
    "language_info": {
      "name": "python"
    }
  },
  "cells": [
    {
      "cell_type": "code",
      "metadata": {
        "colab": {
          "base_uri": "https://localhost:8080/"
        },
        "id": "9A6DostEEvuQ",
        "outputId": "c2bac7ca-69e4-4503-f764-1065fa08d36a"
      },
      "source": [
        "from google.colab import drive\n",
        "drive.mount('/content/drive')"
      ],
      "execution_count": 10,
      "outputs": [
        {
          "output_type": "stream",
          "name": "stdout",
          "text": [
            "Drive already mounted at /content/drive; to attempt to forcibly remount, call drive.mount(\"/content/drive\", force_remount=True).\n"
          ]
        }
      ]
    },
    {
      "cell_type": "code",
      "metadata": {
        "id": "iKO6r7pSFLC0"
      },
      "source": [
        "import numpy as np # linear algebra\n",
        "import pandas as pd # data processing, CSV file I/O (e.g. pd.read_csv)\n",
        "import os"
      ],
      "execution_count": 11,
      "outputs": []
    },
    {
      "cell_type": "code",
      "metadata": {
        "id": "Au9Bsa_KFSwC"
      },
      "source": [
        "import torch\n",
        "import torchvision\n",
        "import torchvision.transforms as transforms\n",
        "import torch.nn as nn\n",
        "import torch.nn.functional as F"
      ],
      "execution_count": 12,
      "outputs": []
    },
    {
      "cell_type": "code",
      "metadata": {
        "id": "yaq8IEuVFUb3"
      },
      "source": [
        "from matplotlib import pyplot as plt\n",
        "import numpy as np\n",
        "from torch.utils.data import random_split"
      ],
      "execution_count": 20,
      "outputs": []
    },
    {
      "cell_type": "code",
      "metadata": {
        "id": "Dg1B7y3oFc7e"
      },
      "source": [
        "data_set_dir = \"/content/drive/My Drive/Machine Learning/Tubes/Dataset\"\n",
        "transform = transforms.Compose([transforms.Resize((64, 64)), transforms.ToTensor(), transforms.Normalize((0.5, 0.5, 0.5), (0.5, 0.5, 0.5))])"
      ],
      "execution_count": 14,
      "outputs": []
    },
    {
      "cell_type": "code",
      "metadata": {
        "colab": {
          "base_uri": "https://localhost:8080/"
        },
        "id": "nXBS7FQeGbyF",
        "outputId": "821ccaa0-a7aa-47b8-fd77-1b223498adfe"
      },
      "source": [
        "with_mask = len(os.listdir(data_set_dir+'/with_mask'))\n",
        "without_mask = len(os.listdir(data_set_dir+'/without_mask'))\n",
        "\n",
        "num_datas = with_mask + without_mask\n",
        "print(\"Face Mask Dataset\")\n",
        "print('Number of classes: {}'.format(len(os.listdir(data_set_dir))))\n",
        "print('Number of datas: {}'.format(num_datas))\n",
        "print(\"\")\n",
        "print(\"Jumlah Masing-Masing Kelas\")\n",
        "print(\"With Mask :\", with_mask)\n",
        "print(\"Without Mask :\", without_mask)"
      ],
      "execution_count": 15,
      "outputs": [
        {
          "output_type": "stream",
          "name": "stdout",
          "text": [
            "Face Mask Dataset\n",
            "Number of classes: 2\n",
            "Number of datas: 4095\n",
            "\n",
            "Jumlah Masing-Masing Kelas\n",
            "With Mask : 2165\n",
            "Without Mask : 1930\n"
          ]
        }
      ]
    },
    {
      "cell_type": "code",
      "metadata": {
        "id": "IrfIfVRUIvS_"
      },
      "source": [
        "dataset = torchvision.datasets.ImageFolder(data_set_dir, transform=transform)\n",
        "batch_size = 60"
      ],
      "execution_count": 21,
      "outputs": []
    },
    {
      "cell_type": "code",
      "metadata": {
        "colab": {
          "base_uri": "https://localhost:8080/"
        },
        "id": "F6SLO5-IIXM6",
        "outputId": "191d44f9-583c-4be5-9e1a-2e02dce5591d"
      },
      "source": [
        "val_size = 800\n",
        "trains_size = len(dataset) - val_size\n",
        "train_dataset, val_dataset = random_split(dataset, [trains_size, val_size])\n",
        "\n",
        "print(\"Train Data :\", len(train_dataset))\n",
        "print(\"Val Data :\", len(val_dataset))"
      ],
      "execution_count": 22,
      "outputs": [
        {
          "output_type": "stream",
          "name": "stdout",
          "text": [
            "Train Data : 3294\n",
            "Val Data : 800\n"
          ]
        }
      ]
    }
  ]
}