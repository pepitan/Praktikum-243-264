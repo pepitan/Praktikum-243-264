{
  "nbformat": 4,
  "nbformat_minor": 0,
  "metadata": {
    "colab": {
      "name": "Copy of Model 2.1",
      "provenance": []
    },
    "kernelspec": {
      "name": "python3",
      "display_name": "Python 3"
    },
    "language_info": {
      "name": "python"
    },
    "accelerator": "GPU"
  },
  "cells": [
    {
      "cell_type": "markdown",
      "metadata": {
        "id": "48xgwnQn70_1"
      },
      "source": [
        "#Load Dataset"
      ]
    },
    {
      "cell_type": "code",
      "metadata": {
        "colab": {
          "base_uri": "https://localhost:8080/"
        },
        "id": "g8emHEXyCDMb",
        "outputId": "d019e2c3-fb64-47f8-f236-4ab65ece4d9d"
      },
      "source": [
        "from google.colab import drive\n",
        "drive.mount('/content/drive')"
      ],
      "execution_count": null,
      "outputs": [
        {
          "output_type": "stream",
          "name": "stdout",
          "text": [
            "Mounted at /content/drive\n"
          ]
        }
      ]
    },
    {
      "cell_type": "code",
      "metadata": {
        "id": "XZWrN70qCiTp"
      },
      "source": [
        "with_mask= '/content/drive/MyDrive/Machine Learning/Tubes/Dataset/with_mask'\n",
        "without_mask = '/content/drive/MyDrive/Machine Learning/Tubes/Dataset/without_mask'"
      ],
      "execution_count": null,
      "outputs": []
    },
    {
      "cell_type": "code",
      "metadata": {
        "id": "rskOSPNxDrXH"
      },
      "source": [
        "import os"
      ],
      "execution_count": null,
      "outputs": []
    },
    {
      "cell_type": "code",
      "metadata": {
        "colab": {
          "base_uri": "https://localhost:8080/"
        },
        "id": "mjDr6H-pDdxh",
        "outputId": "edcb55a6-1212-47f6-d333-cc38be36630a"
      },
      "source": [
        "print(\"jumlah masker   :\", len(os.listdir(with_mask)))\n",
        "print(\"jumlah tanpa masker    :\", len(os.listdir(without_mask)))"
      ],
      "execution_count": null,
      "outputs": [
        {
          "output_type": "stream",
          "name": "stdout",
          "text": [
            "jumlah masker   : 2165\n",
            "jumlah tanpa masker    : 1930\n"
          ]
        }
      ]
    },
    {
      "cell_type": "markdown",
      "metadata": {
        "id": "L-loEYgx8PzB"
      },
      "source": [
        "#Splitting Dataset"
      ]
    },
    {
      "cell_type": "code",
      "metadata": {
        "id": "-5blBjJpOQw2"
      },
      "source": [
        "train_dir = '/content/drive/MyDrive/Machine Learning/Tubes/Splited Dataset/train'\n",
        "val_dir = '/content/drive/MyDrive/Machine Learning/Tubes/Splited Dataset/val'\n",
        "test_dir = '/content/drive/MyDrive/Machine Learning/Tubes/Splited Dataset/test'"
      ],
      "execution_count": null,
      "outputs": []
    },
    {
      "cell_type": "code",
      "metadata": {
        "id": "I2-HZJlUmmJJ"
      },
      "source": [
        "import matplotlib.pyplot as plt \n",
        "from tensorflow.keras.preprocessing.image import ImageDataGenerator, load_img\n",
        "import tensorflow as tf\n",
        "from tensorflow.keras.utils import to_categorical\n",
        "from keras.callbacks import ReduceLROnPlateau"
      ],
      "execution_count": null,
      "outputs": []
    },
    {
      "cell_type": "code",
      "metadata": {
        "id": "oYYWY-nOmoVs"
      },
      "source": [
        "batch_size = 20"
      ],
      "execution_count": null,
      "outputs": []
    },
    {
      "cell_type": "markdown",
      "metadata": {
        "id": "nRVjTRWQ8ThF"
      },
      "source": [
        "#Augmentasi Data"
      ]
    },
    {
      "cell_type": "code",
      "metadata": {
        "colab": {
          "base_uri": "https://localhost:8080/"
        },
        "id": "Yyd2d6gImqY8",
        "outputId": "b31314b5-9124-4ae1-bafe-b158746803de"
      },
      "source": [
        "train_datagen = ImageDataGenerator(\n",
        "    rescale = 1./255,\n",
        "    horizontal_flip=True,\n",
        "    vertical_flip=True,\n",
        "    shear_range=0.5,\n",
        "    fill_mode='constant',\n",
        ")\n",
        "\n",
        "test_datagen = ImageDataGenerator(rescale=1./255)\n",
        "\n",
        "train_gen = train_datagen.flow_from_directory(\n",
        "    train_dir,\n",
        "    target_size=(100,150),\n",
        "    batch_size = batch_size,\n",
        "    shuffle=True,\n",
        "    color_mode=\"rgb\",\n",
        "    class_mode='categorical'\n",
        ")\n",
        "\n",
        "val_gen = train_datagen.flow_from_directory(\n",
        "    val_dir,\n",
        "    target_size=(100,150),\n",
        "    batch_size = batch_size,\n",
        "    color_mode=\"rgb\",\n",
        "    class_mode='categorical'\n",
        ")\n",
        "\n",
        "test_gen = test_datagen.flow_from_directory(\n",
        "    test_dir,\n",
        "    target_size=(100,150),\n",
        "    batch_size = batch_size,\n",
        "    color_mode=\"rgb\",\n",
        "    class_mode='categorical'\n",
        ")"
      ],
      "execution_count": null,
      "outputs": [
        {
          "output_type": "stream",
          "name": "stdout",
          "text": [
            "Found 3273 images belonging to 2 classes.\n",
            "Found 777 images belonging to 2 classes.\n",
            "Found 42 images belonging to 2 classes.\n"
          ]
        }
      ]
    },
    {
      "cell_type": "markdown",
      "metadata": {
        "id": "W1BCnp1r8hBC"
      },
      "source": [
        "#Set Callback"
      ]
    },
    {
      "cell_type": "code",
      "metadata": {
        "id": "wl1cbKaAmx_C"
      },
      "source": [
        "#DESIRED_ACCURACY = 0.975\n",
        "\n",
        "#class myCallback(tf.keras.callbacks.Callback):\n",
        "#    def on_epoch_end(self, epochs, logs={}) :\n",
        "#        if(logs.get('val_acc') is not None and logs.get('val_acc') >= DESIRED_ACCURACY) :\n",
        "#            print('\\nReached 97,5% accuracy so cancelling training!')\n",
        "#            self.model.stop_training = True\n",
        "\n",
        "#callbacks = myCallback()"
      ],
      "execution_count": null,
      "outputs": []
    },
    {
      "cell_type": "markdown",
      "metadata": {
        "id": "aHTi71E08nMd"
      },
      "source": [
        "#Membuat Skema Model CNN"
      ]
    },
    {
      "cell_type": "code",
      "metadata": {
        "id": "4WXuS1O8m7hJ"
      },
      "source": [
        "model2 = tf.keras.models.Sequential([\n",
        "    tf.keras.layers.Conv2D(32, (3,3), activation='relu', input_shape=(100,150,3)),\n",
        "    tf.keras.layers.MaxPooling2D(2,2),\n",
        "    tf.keras.layers.Conv2D(64, (3,3), activation='relu'),\n",
        "    tf.keras.layers.MaxPooling2D(2,2),\n",
        "    tf.keras.layers.Conv2D(128, (3,3), activation='relu'),\n",
        "    tf.keras.layers.MaxPooling2D(2,2),\n",
        "    #Flaten\n",
        "    tf.keras.layers.Flatten(),\n",
        "    #batch normalization\n",
        "    tf.keras.layers.BatchNormalization(),\n",
        "    #dropout\n",
        "    tf.keras.layers.Dropout(0.5, input_shape=(2,)),\n",
        "    #fully connected\n",
        "    tf.keras.layers.Dense(512, activation='relu'),\n",
        "    tf.keras.layers.Dense(2, activation='sigmoid')                                 \n",
        "])"
      ],
      "execution_count": null,
      "outputs": []
    },
    {
      "cell_type": "code",
      "metadata": {
        "colab": {
          "base_uri": "https://localhost:8080/"
        },
        "id": "32Tlglftm95A",
        "outputId": "2b75962c-f4f6-4181-be72-471cfa723667"
      },
      "source": [
        "model2.summary()"
      ],
      "execution_count": null,
      "outputs": [
        {
          "output_type": "stream",
          "name": "stdout",
          "text": [
            "Model: \"sequential\"\n",
            "_________________________________________________________________\n",
            " Layer (type)                Output Shape              Param #   \n",
            "=================================================================\n",
            " conv2d (Conv2D)             (None, 98, 148, 32)       896       \n",
            "                                                                 \n",
            " max_pooling2d (MaxPooling2D  (None, 49, 74, 32)       0         \n",
            " )                                                               \n",
            "                                                                 \n",
            " conv2d_1 (Conv2D)           (None, 47, 72, 64)        18496     \n",
            "                                                                 \n",
            " max_pooling2d_1 (MaxPooling  (None, 23, 36, 64)       0         \n",
            " 2D)                                                             \n",
            "                                                                 \n",
            " conv2d_2 (Conv2D)           (None, 21, 34, 128)       73856     \n",
            "                                                                 \n",
            " max_pooling2d_2 (MaxPooling  (None, 10, 17, 128)      0         \n",
            " 2D)                                                             \n",
            "                                                                 \n",
            " flatten (Flatten)           (None, 21760)             0         \n",
            "                                                                 \n",
            " batch_normalization (BatchN  (None, 21760)            87040     \n",
            " ormalization)                                                   \n",
            "                                                                 \n",
            " dropout (Dropout)           (None, 21760)             0         \n",
            "                                                                 \n",
            " dense (Dense)               (None, 512)               11141632  \n",
            "                                                                 \n",
            " dense_1 (Dense)             (None, 2)                 1026      \n",
            "                                                                 \n",
            "=================================================================\n",
            "Total params: 11,322,946\n",
            "Trainable params: 11,279,426\n",
            "Non-trainable params: 43,520\n",
            "_________________________________________________________________\n"
          ]
        }
      ]
    },
    {
      "cell_type": "markdown",
      "metadata": {
        "id": "zTzys7QL8ty3"
      },
      "source": [
        "#Melatih Model CNN"
      ]
    },
    {
      "cell_type": "code",
      "metadata": {
        "colab": {
          "base_uri": "https://localhost:8080/"
        },
        "id": "ZRj1Pag2nASq",
        "outputId": "416089f3-bf95-4a11-c5b8-84402b846165"
      },
      "source": [
        "train_step_size = train_gen.n//train_gen.batch_size\n",
        "val_step_size = val_gen.n//val_gen.batch_size\n",
        "\n",
        "print(train_step_size)\n",
        "print(val_step_size)"
      ],
      "execution_count": null,
      "outputs": [
        {
          "output_type": "stream",
          "name": "stdout",
          "text": [
            "163\n",
            "38\n"
          ]
        }
      ]
    },
    {
      "cell_type": "code",
      "metadata": {
        "id": "Hp1WqOdAnB_w"
      },
      "source": [
        "model2.compile(loss='categorical_crossentropy',\n",
        "              optimizer='rmsprop',      \n",
        "              metrics=['acc'])"
      ],
      "execution_count": null,
      "outputs": []
    },
    {
      "cell_type": "code",
      "metadata": {
        "colab": {
          "base_uri": "https://localhost:8080/"
        },
        "id": "t6eX7l1pnEJA",
        "outputId": "49bad264-5299-41e2-a36f-7140efc5969d"
      },
      "source": [
        "history = model2.fit_generator(train_gen, steps_per_epoch=87, epochs=100, validation_data= val_gen, validation_steps=10, verbose=2)  "
      ],
      "execution_count": null,
      "outputs": [
        {
          "output_type": "stream",
          "name": "stderr",
          "text": [
            "/usr/local/lib/python3.7/dist-packages/ipykernel_launcher.py:1: UserWarning: `Model.fit_generator` is deprecated and will be removed in a future version. Please use `Model.fit`, which supports generators.\n",
            "  \"\"\"Entry point for launching an IPython kernel.\n"
          ]
        },
        {
          "output_type": "stream",
          "name": "stdout",
          "text": [
            "Epoch 1/100\n"
          ]
        },
        {
          "output_type": "stream",
          "name": "stderr",
          "text": [
            "/usr/local/lib/python3.7/dist-packages/PIL/Image.py:960: UserWarning: Palette images with Transparency expressed in bytes should be converted to RGBA images\n",
            "  \"Palette images with Transparency expressed in bytes should be \"\n"
          ]
        },
        {
          "output_type": "stream",
          "name": "stdout",
          "text": [
            "87/87 - 667s - loss: 0.7090 - acc: 0.8165 - val_loss: 0.6796 - val_acc: 0.7750 - 667s/epoch - 8s/step\n",
            "Epoch 2/100\n",
            "87/87 - 329s - loss: 0.3481 - acc: 0.8684 - val_loss: 0.6852 - val_acc: 0.5050 - 329s/epoch - 4s/step\n",
            "Epoch 3/100\n",
            "87/87 - 187s - loss: 0.3027 - acc: 0.8908 - val_loss: 0.6714 - val_acc: 0.7800 - 187s/epoch - 2s/step\n",
            "Epoch 4/100\n",
            "87/87 - 109s - loss: 0.2964 - acc: 0.8829 - val_loss: 0.5949 - val_acc: 0.6750 - 109s/epoch - 1s/step\n",
            "Epoch 5/100\n",
            "87/87 - 88s - loss: 0.2434 - acc: 0.9094 - val_loss: 0.5122 - val_acc: 0.7050 - 88s/epoch - 1s/step\n",
            "Epoch 6/100\n",
            "87/87 - 52s - loss: 0.2248 - acc: 0.9152 - val_loss: 0.2984 - val_acc: 0.8650 - 52s/epoch - 602ms/step\n",
            "Epoch 7/100\n",
            "87/87 - 36s - loss: 0.1999 - acc: 0.9293 - val_loss: 0.2248 - val_acc: 0.9050 - 36s/epoch - 413ms/step\n",
            "Epoch 8/100\n",
            "87/87 - 37s - loss: 0.2284 - acc: 0.9264 - val_loss: 0.2134 - val_acc: 0.9000 - 37s/epoch - 424ms/step\n",
            "Epoch 9/100\n",
            "87/87 - 32s - loss: 0.2152 - acc: 0.9279 - val_loss: 0.3184 - val_acc: 0.8400 - 32s/epoch - 365ms/step\n",
            "Epoch 10/100\n",
            "87/87 - 29s - loss: 0.2076 - acc: 0.9313 - val_loss: 0.8673 - val_acc: 0.8050 - 29s/epoch - 338ms/step\n",
            "Epoch 11/100\n",
            "87/87 - 26s - loss: 0.1702 - acc: 0.9365 - val_loss: 0.3769 - val_acc: 0.8550 - 26s/epoch - 300ms/step\n",
            "Epoch 12/100\n",
            "87/87 - 20s - loss: 0.1680 - acc: 0.9371 - val_loss: 0.5180 - val_acc: 0.8550 - 20s/epoch - 232ms/step\n",
            "Epoch 13/100\n",
            "87/87 - 22s - loss: 0.1735 - acc: 0.9374 - val_loss: 0.5551 - val_acc: 0.8550 - 22s/epoch - 257ms/step\n",
            "Epoch 14/100\n",
            "87/87 - 21s - loss: 0.1702 - acc: 0.9351 - val_loss: 0.1931 - val_acc: 0.9450 - 21s/epoch - 239ms/step\n",
            "Epoch 15/100\n",
            "87/87 - 20s - loss: 0.1574 - acc: 0.9481 - val_loss: 0.5483 - val_acc: 0.9000 - 20s/epoch - 230ms/step\n",
            "Epoch 16/100\n",
            "87/87 - 22s - loss: 0.1792 - acc: 0.9385 - val_loss: 0.2778 - val_acc: 0.8950 - 22s/epoch - 252ms/step\n",
            "Epoch 17/100\n",
            "87/87 - 21s - loss: 0.1559 - acc: 0.9492 - val_loss: 0.1481 - val_acc: 0.9200 - 21s/epoch - 236ms/step\n",
            "Epoch 18/100\n",
            "87/87 - 19s - loss: 0.1734 - acc: 0.9406 - val_loss: 1.3203 - val_acc: 0.7750 - 19s/epoch - 224ms/step\n",
            "Epoch 19/100\n",
            "87/87 - 20s - loss: 0.1703 - acc: 0.9452 - val_loss: 0.4270 - val_acc: 0.8850 - 20s/epoch - 231ms/step\n",
            "Epoch 20/100\n",
            "87/87 - 20s - loss: 0.1533 - acc: 0.9460 - val_loss: 0.6153 - val_acc: 0.8750 - 20s/epoch - 225ms/step\n",
            "Epoch 21/100\n",
            "87/87 - 19s - loss: 0.1828 - acc: 0.9454 - val_loss: 0.3388 - val_acc: 0.9000 - 19s/epoch - 221ms/step\n",
            "Epoch 22/100\n",
            "87/87 - 20s - loss: 0.1545 - acc: 0.9538 - val_loss: 0.2353 - val_acc: 0.9150 - 20s/epoch - 225ms/step\n",
            "Epoch 23/100\n",
            "87/87 - 19s - loss: 0.1557 - acc: 0.9500 - val_loss: 1.0357 - val_acc: 0.8250 - 19s/epoch - 217ms/step\n",
            "Epoch 24/100\n",
            "87/87 - 20s - loss: 0.1265 - acc: 0.9602 - val_loss: 0.5374 - val_acc: 0.8050 - 20s/epoch - 233ms/step\n",
            "Epoch 25/100\n",
            "87/87 - 19s - loss: 0.1180 - acc: 0.9529 - val_loss: 0.1038 - val_acc: 0.9450 - 19s/epoch - 222ms/step\n",
            "Epoch 26/100\n",
            "87/87 - 20s - loss: 0.1353 - acc: 0.9515 - val_loss: 0.2169 - val_acc: 0.9450 - 20s/epoch - 227ms/step\n",
            "Epoch 27/100\n",
            "87/87 - 19s - loss: 0.1695 - acc: 0.9492 - val_loss: 1.3699 - val_acc: 0.7250 - 19s/epoch - 220ms/step\n",
            "Epoch 28/100\n",
            "87/87 - 20s - loss: 0.1183 - acc: 0.9613 - val_loss: 0.2293 - val_acc: 0.9250 - 20s/epoch - 226ms/step\n",
            "Epoch 29/100\n",
            "87/87 - 20s - loss: 0.1591 - acc: 0.9523 - val_loss: 0.1821 - val_acc: 0.9550 - 20s/epoch - 233ms/step\n",
            "Epoch 30/100\n",
            "87/87 - 20s - loss: 0.1266 - acc: 0.9563 - val_loss: 0.0951 - val_acc: 0.9550 - 20s/epoch - 228ms/step\n",
            "Epoch 31/100\n",
            "87/87 - 19s - loss: 0.1523 - acc: 0.9492 - val_loss: 0.4680 - val_acc: 0.8800 - 19s/epoch - 224ms/step\n",
            "Epoch 32/100\n",
            "87/87 - 20s - loss: 0.1409 - acc: 0.9540 - val_loss: 0.3174 - val_acc: 0.9450 - 20s/epoch - 224ms/step\n",
            "Epoch 33/100\n",
            "87/87 - 20s - loss: 0.1234 - acc: 0.9602 - val_loss: 0.2028 - val_acc: 0.9550 - 20s/epoch - 226ms/step\n",
            "Epoch 34/100\n",
            "87/87 - 20s - loss: 0.1026 - acc: 0.9677 - val_loss: 0.3413 - val_acc: 0.9300 - 20s/epoch - 230ms/step\n",
            "Epoch 35/100\n",
            "87/87 - 19s - loss: 0.1144 - acc: 0.9642 - val_loss: 0.1596 - val_acc: 0.9600 - 19s/epoch - 219ms/step\n",
            "Epoch 36/100\n",
            "87/87 - 20s - loss: 0.1121 - acc: 0.9615 - val_loss: 1.8549 - val_acc: 0.8650 - 20s/epoch - 225ms/step\n",
            "Epoch 37/100\n",
            "87/87 - 20s - loss: 0.1499 - acc: 0.9563 - val_loss: 0.2527 - val_acc: 0.9300 - 20s/epoch - 226ms/step\n",
            "Epoch 38/100\n",
            "87/87 - 19s - loss: 0.0968 - acc: 0.9678 - val_loss: 0.1499 - val_acc: 0.9750 - 19s/epoch - 218ms/step\n",
            "Epoch 39/100\n",
            "87/87 - 20s - loss: 0.1418 - acc: 0.9598 - val_loss: 0.2967 - val_acc: 0.9300 - 20s/epoch - 233ms/step\n",
            "Epoch 40/100\n",
            "87/87 - 19s - loss: 0.1237 - acc: 0.9615 - val_loss: 0.3370 - val_acc: 0.9650 - 19s/epoch - 219ms/step\n",
            "Epoch 41/100\n",
            "87/87 - 19s - loss: 0.1046 - acc: 0.9678 - val_loss: 0.5043 - val_acc: 0.9150 - 19s/epoch - 215ms/step\n",
            "Epoch 42/100\n",
            "87/87 - 19s - loss: 0.1013 - acc: 0.9706 - val_loss: 0.7124 - val_acc: 0.9050 - 19s/epoch - 223ms/step\n",
            "Epoch 43/100\n",
            "87/87 - 19s - loss: 0.1264 - acc: 0.9683 - val_loss: 0.4269 - val_acc: 0.9350 - 19s/epoch - 219ms/step\n",
            "Epoch 44/100\n",
            "87/87 - 20s - loss: 0.0995 - acc: 0.9735 - val_loss: 0.9109 - val_acc: 0.8550 - 20s/epoch - 228ms/step\n",
            "Epoch 45/100\n",
            "87/87 - 19s - loss: 0.1277 - acc: 0.9632 - val_loss: 0.4503 - val_acc: 0.9250 - 19s/epoch - 220ms/step\n",
            "Epoch 46/100\n",
            "87/87 - 19s - loss: 0.1187 - acc: 0.9667 - val_loss: 0.2472 - val_acc: 0.9550 - 19s/epoch - 213ms/step\n",
            "Epoch 47/100\n",
            "87/87 - 18s - loss: 0.1472 - acc: 0.9556 - val_loss: 0.1580 - val_acc: 0.9600 - 18s/epoch - 211ms/step\n",
            "Epoch 48/100\n",
            "87/87 - 20s - loss: 0.0927 - acc: 0.9730 - val_loss: 0.1367 - val_acc: 0.9500 - 20s/epoch - 227ms/step\n",
            "Epoch 49/100\n",
            "87/87 - 19s - loss: 0.1099 - acc: 0.9665 - val_loss: 0.1731 - val_acc: 0.9650 - 19s/epoch - 215ms/step\n",
            "Epoch 50/100\n",
            "87/87 - 19s - loss: 0.1178 - acc: 0.9598 - val_loss: 0.0734 - val_acc: 0.9750 - 19s/epoch - 216ms/step\n",
            "Epoch 51/100\n",
            "87/87 - 19s - loss: 0.0943 - acc: 0.9736 - val_loss: 0.6358 - val_acc: 0.9150 - 19s/epoch - 215ms/step\n",
            "Epoch 52/100\n",
            "87/87 - 20s - loss: 0.0892 - acc: 0.9695 - val_loss: 0.2406 - val_acc: 0.9550 - 20s/epoch - 225ms/step\n",
            "Epoch 53/100\n",
            "87/87 - 20s - loss: 0.1300 - acc: 0.9694 - val_loss: 0.4700 - val_acc: 0.9500 - 20s/epoch - 235ms/step\n",
            "Epoch 54/100\n",
            "87/87 - 20s - loss: 0.1184 - acc: 0.9644 - val_loss: 0.2026 - val_acc: 0.9700 - 20s/epoch - 226ms/step\n",
            "Epoch 55/100\n",
            "87/87 - 20s - loss: 0.0924 - acc: 0.9707 - val_loss: 0.2216 - val_acc: 0.9550 - 20s/epoch - 226ms/step\n",
            "Epoch 56/100\n",
            "87/87 - 19s - loss: 0.0974 - acc: 0.9730 - val_loss: 0.2634 - val_acc: 0.9450 - 19s/epoch - 221ms/step\n",
            "Epoch 57/100\n",
            "87/87 - 19s - loss: 0.0945 - acc: 0.9730 - val_loss: 0.0869 - val_acc: 0.9750 - 19s/epoch - 215ms/step\n",
            "Epoch 58/100\n",
            "87/87 - 19s - loss: 0.1041 - acc: 0.9694 - val_loss: 0.3238 - val_acc: 0.9150 - 19s/epoch - 220ms/step\n",
            "Epoch 59/100\n",
            "87/87 - 19s - loss: 0.0964 - acc: 0.9701 - val_loss: 0.9119 - val_acc: 0.8250 - 19s/epoch - 213ms/step\n",
            "Epoch 60/100\n",
            "87/87 - 19s - loss: 0.0926 - acc: 0.9753 - val_loss: 1.0668 - val_acc: 0.8350 - 19s/epoch - 216ms/step\n",
            "Epoch 61/100\n",
            "87/87 - 19s - loss: 0.1026 - acc: 0.9667 - val_loss: 0.1642 - val_acc: 0.9700 - 19s/epoch - 221ms/step\n",
            "Epoch 62/100\n",
            "87/87 - 19s - loss: 0.0697 - acc: 0.9741 - val_loss: 0.4179 - val_acc: 0.9500 - 19s/epoch - 217ms/step\n",
            "Epoch 63/100\n",
            "87/87 - 19s - loss: 0.0782 - acc: 0.9724 - val_loss: 0.7318 - val_acc: 0.9050 - 19s/epoch - 218ms/step\n",
            "Epoch 64/100\n",
            "87/87 - 20s - loss: 0.1246 - acc: 0.9677 - val_loss: 0.1840 - val_acc: 0.9650 - 20s/epoch - 232ms/step\n",
            "Epoch 65/100\n",
            "87/87 - 19s - loss: 0.0619 - acc: 0.9747 - val_loss: 0.3143 - val_acc: 0.9300 - 19s/epoch - 222ms/step\n",
            "Epoch 66/100\n",
            "87/87 - 20s - loss: 0.1156 - acc: 0.9753 - val_loss: 0.0373 - val_acc: 0.9900 - 20s/epoch - 228ms/step\n",
            "Epoch 67/100\n",
            "87/87 - 19s - loss: 0.0656 - acc: 0.9782 - val_loss: 0.4051 - val_acc: 0.9350 - 19s/epoch - 215ms/step\n",
            "Epoch 68/100\n",
            "87/87 - 19s - loss: 0.0775 - acc: 0.9763 - val_loss: 0.4401 - val_acc: 0.9400 - 19s/epoch - 217ms/step\n",
            "Epoch 69/100\n",
            "87/87 - 19s - loss: 0.0701 - acc: 0.9793 - val_loss: 0.5005 - val_acc: 0.9250 - 19s/epoch - 223ms/step\n",
            "Epoch 70/100\n",
            "87/87 - 19s - loss: 0.0788 - acc: 0.9729 - val_loss: 0.5599 - val_acc: 0.9400 - 19s/epoch - 219ms/step\n",
            "Epoch 71/100\n",
            "87/87 - 19s - loss: 0.0809 - acc: 0.9810 - val_loss: 0.7998 - val_acc: 0.9000 - 19s/epoch - 219ms/step\n",
            "Epoch 72/100\n",
            "87/87 - 20s - loss: 0.1192 - acc: 0.9625 - val_loss: 0.3269 - val_acc: 0.9400 - 20s/epoch - 225ms/step\n",
            "Epoch 73/100\n",
            "87/87 - 20s - loss: 0.0793 - acc: 0.9782 - val_loss: 0.3309 - val_acc: 0.9550 - 20s/epoch - 228ms/step\n",
            "Epoch 74/100\n",
            "87/87 - 19s - loss: 0.0750 - acc: 0.9799 - val_loss: 0.1982 - val_acc: 0.9400 - 19s/epoch - 217ms/step\n",
            "Epoch 75/100\n",
            "87/87 - 20s - loss: 0.1026 - acc: 0.9735 - val_loss: 0.7958 - val_acc: 0.8550 - 20s/epoch - 225ms/step\n",
            "Epoch 76/100\n",
            "87/87 - 20s - loss: 0.1013 - acc: 0.9781 - val_loss: 0.1464 - val_acc: 0.9700 - 20s/epoch - 230ms/step\n",
            "Epoch 77/100\n",
            "87/87 - 19s - loss: 0.0920 - acc: 0.9723 - val_loss: 0.2086 - val_acc: 0.9450 - 19s/epoch - 219ms/step\n",
            "Epoch 78/100\n",
            "87/87 - 19s - loss: 0.0807 - acc: 0.9764 - val_loss: 0.2712 - val_acc: 0.9400 - 19s/epoch - 224ms/step\n",
            "Epoch 79/100\n",
            "87/87 - 20s - loss: 0.0847 - acc: 0.9759 - val_loss: 1.1706 - val_acc: 0.7850 - 20s/epoch - 226ms/step\n",
            "Epoch 80/100\n",
            "87/87 - 19s - loss: 0.1013 - acc: 0.9718 - val_loss: 0.1653 - val_acc: 0.9550 - 19s/epoch - 222ms/step\n",
            "Epoch 81/100\n",
            "87/87 - 20s - loss: 0.0736 - acc: 0.9781 - val_loss: 0.4793 - val_acc: 0.9300 - 20s/epoch - 227ms/step\n",
            "Epoch 82/100\n",
            "87/87 - 20s - loss: 0.0749 - acc: 0.9759 - val_loss: 0.4351 - val_acc: 0.9050 - 20s/epoch - 228ms/step\n",
            "Epoch 83/100\n",
            "87/87 - 19s - loss: 0.0661 - acc: 0.9805 - val_loss: 0.5011 - val_acc: 0.9150 - 19s/epoch - 218ms/step\n",
            "Epoch 84/100\n",
            "87/87 - 18s - loss: 0.0907 - acc: 0.9781 - val_loss: 0.5231 - val_acc: 0.9400 - 18s/epoch - 211ms/step\n",
            "Epoch 85/100\n",
            "87/87 - 19s - loss: 0.0740 - acc: 0.9786 - val_loss: 0.4853 - val_acc: 0.9150 - 19s/epoch - 218ms/step\n",
            "Epoch 86/100\n",
            "87/87 - 20s - loss: 0.1076 - acc: 0.9752 - val_loss: 0.1765 - val_acc: 0.9550 - 20s/epoch - 229ms/step\n",
            "Epoch 87/100\n",
            "87/87 - 19s - loss: 0.0822 - acc: 0.9776 - val_loss: 0.1086 - val_acc: 0.9750 - 19s/epoch - 214ms/step\n",
            "Epoch 88/100\n",
            "87/87 - 18s - loss: 0.0723 - acc: 0.9792 - val_loss: 0.4394 - val_acc: 0.9400 - 18s/epoch - 212ms/step\n",
            "Epoch 89/100\n",
            "87/87 - 19s - loss: 0.0659 - acc: 0.9821 - val_loss: 0.2441 - val_acc: 0.9500 - 19s/epoch - 221ms/step\n",
            "Epoch 90/100\n",
            "87/87 - 19s - loss: 0.1114 - acc: 0.9711 - val_loss: 0.4586 - val_acc: 0.9200 - 19s/epoch - 214ms/step\n",
            "Epoch 91/100\n",
            "87/87 - 19s - loss: 0.1021 - acc: 0.9694 - val_loss: 0.3952 - val_acc: 0.9400 - 19s/epoch - 217ms/step\n",
            "Epoch 92/100\n",
            "87/87 - 20s - loss: 0.0866 - acc: 0.9753 - val_loss: 0.8683 - val_acc: 0.8750 - 20s/epoch - 227ms/step\n",
            "Epoch 93/100\n",
            "87/87 - 19s - loss: 0.1065 - acc: 0.9763 - val_loss: 0.0800 - val_acc: 0.9800 - 19s/epoch - 220ms/step\n",
            "Epoch 94/100\n",
            "87/87 - 19s - loss: 0.1251 - acc: 0.9684 - val_loss: 0.2134 - val_acc: 0.9400 - 19s/epoch - 222ms/step\n",
            "Epoch 95/100\n",
            "87/87 - 20s - loss: 0.0885 - acc: 0.9735 - val_loss: 0.8210 - val_acc: 0.9150 - 20s/epoch - 225ms/step\n",
            "Epoch 96/100\n",
            "87/87 - 20s - loss: 0.0989 - acc: 0.9747 - val_loss: 0.1578 - val_acc: 0.9600 - 20s/epoch - 226ms/step\n",
            "Epoch 97/100\n",
            "87/87 - 19s - loss: 0.0748 - acc: 0.9769 - val_loss: 0.2095 - val_acc: 0.9500 - 19s/epoch - 222ms/step\n",
            "Epoch 98/100\n",
            "87/87 - 20s - loss: 0.0667 - acc: 0.9805 - val_loss: 0.0913 - val_acc: 0.9750 - 20s/epoch - 234ms/step\n",
            "Epoch 99/100\n",
            "87/87 - 19s - loss: 0.0912 - acc: 0.9786 - val_loss: 0.3799 - val_acc: 0.9400 - 19s/epoch - 222ms/step\n",
            "Epoch 100/100\n",
            "87/87 - 20s - loss: 0.0820 - acc: 0.9804 - val_loss: 0.2633 - val_acc: 0.9350 - 20s/epoch - 230ms/step\n"
          ]
        }
      ]
    },
    {
      "cell_type": "markdown",
      "metadata": {
        "id": "jWICpeJGBirB"
      },
      "source": [
        "#Simpan Model dan History"
      ]
    },
    {
      "cell_type": "code",
      "metadata": {
        "id": "WaYNlpA1BUi9"
      },
      "source": [
        "import json\n",
        "\n",
        "target_dir = '/content/drive/MyDrive/Machine Learning/Tubes/Model'\n",
        "\n",
        "# simpan history model pertama\n",
        "history_dict = history.history\n",
        "json.dump(history_dict, open(target_dir + '/history_model2.json', 'w'))\n",
        "\n",
        "# simpan model pertama dan weight-nya\n",
        "model2.save(target_dir + '/model2.h5')\n",
        "model2.save_weights(target_dir + '/weight_model2.hdf5')"
      ],
      "execution_count": null,
      "outputs": []
    }
  ]
}