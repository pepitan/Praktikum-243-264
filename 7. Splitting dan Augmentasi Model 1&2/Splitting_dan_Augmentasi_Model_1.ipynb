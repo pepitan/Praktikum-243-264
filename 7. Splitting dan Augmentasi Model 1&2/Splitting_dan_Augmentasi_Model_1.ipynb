{
  "nbformat": 4,
  "nbformat_minor": 0,
  "metadata": {
    "colab": {
      "name": "Splitting dan Augmentasi Model 1.ipynb",
      "provenance": []
    },
    "kernelspec": {
      "name": "python3",
      "display_name": "Python 3"
    },
    "language_info": {
      "name": "python"
    }
  },
  "cells": [
    {
      "cell_type": "markdown",
      "metadata": {
        "id": "48xgwnQn70_1"
      },
      "source": [
        "#Load Dataset"
      ]
    },
    {
      "cell_type": "code",
      "metadata": {
        "colab": {
          "base_uri": "https://localhost:8080/"
        },
        "id": "g8emHEXyCDMb",
        "outputId": "421225e3-3afd-404a-ee27-7adaeff21df2"
      },
      "source": [
        "from google.colab import drive\n",
        "drive.mount('/content/drive')"
      ],
      "execution_count": null,
      "outputs": [
        {
          "output_type": "stream",
          "name": "stdout",
          "text": [
            "Mounted at /content/drive\n"
          ]
        }
      ]
    },
    {
      "cell_type": "code",
      "metadata": {
        "id": "XZWrN70qCiTp"
      },
      "source": [
        "with_mask= '/content/drive/MyDrive/Machine Learning/Modul 3/Kegiatan Kelompok/Dataset/with_mask'\n",
        "without_mask = '/content/drive/MyDrive/Machine Learning/Modul 3/Kegiatan Kelompok/Dataset/without_mask'"
      ],
      "execution_count": null,
      "outputs": []
    },
    {
      "cell_type": "code",
      "metadata": {
        "id": "rskOSPNxDrXH"
      },
      "source": [
        "import os"
      ],
      "execution_count": null,
      "outputs": []
    },
    {
      "cell_type": "code",
      "metadata": {
        "colab": {
          "base_uri": "https://localhost:8080/"
        },
        "id": "mjDr6H-pDdxh",
        "outputId": "5efc3d53-8996-4570-ffba-94ef048f1bf1"
      },
      "source": [
        "print(\"jumlah masker   :\", len(os.listdir(with_mask)))\n",
        "print(\"jumlah tanpa masker    :\", len(os.listdir(without_mask)))"
      ],
      "execution_count": null,
      "outputs": [
        {
          "output_type": "stream",
          "name": "stdout",
          "text": [
            "jumlah masker   : 2165\n",
            "jumlah tanpa masker    : 1930\n"
          ]
        }
      ]
    },
    {
      "cell_type": "code",
      "metadata": {
        "colab": {
          "base_uri": "https://localhost:8080/"
        },
        "id": "oFp3PG4DD3yQ",
        "outputId": "2b97615e-236c-4116-fec5-9a03af4bea6c"
      },
      "source": [
        "!pip install split_folders\n",
        "import splitfolders"
      ],
      "execution_count": null,
      "outputs": [
        {
          "output_type": "stream",
          "name": "stdout",
          "text": [
            "Collecting split_folders\n",
            "  Downloading split_folders-0.4.3-py3-none-any.whl (7.4 kB)\n",
            "Installing collected packages: split-folders\n",
            "Successfully installed split-folders-0.4.3\n"
          ]
        }
      ]
    },
    {
      "cell_type": "code",
      "metadata": {
        "colab": {
          "base_uri": "https://localhost:8080/"
        },
        "id": "3NuQLsmvD7Sd",
        "outputId": "5a323a74-93f3-469b-b4f0-baa4d5b35457"
      },
      "source": [
        "input_folder = '/content/drive/MyDrive/Machine Learning/Modul 3/Kegiatan Kelompok/Dataset'\n",
        "output = '/content/drive/MyDrive/Machine Learning/Modul 3/Kegiatan Kelompok/Splited Dataset'\n",
        "splitfolders.ratio(input_folder, output = output, seed=42, ratio=(.8, .19, .01))"
      ],
      "execution_count": null,
      "outputs": [
        {
          "output_type": "stream",
          "name": "stderr",
          "text": [
            "Copying files: 4095 files [42:02,  1.62 files/s]\n"
          ]
        }
      ]
    },
    {
      "cell_type": "markdown",
      "metadata": {
        "id": "L-loEYgx8PzB"
      },
      "source": [
        "#Splitting Dataset"
      ]
    },
    {
      "cell_type": "code",
      "metadata": {
        "id": "-5blBjJpOQw2"
      },
      "source": [
        "train_dir = '/content/drive/MyDrive/Machine Learning/Modul 3/Kegiatan Kelompok/Splited Dataset/train'\n",
        "val_dir = '/content/drive/MyDrive/Machine Learning/Modul 3/Kegiatan Kelompok/Splited Dataset/val'\n",
        "test_dir = '/content/drive/MyDrive/Machine Learning/Modul 3/Kegiatan Kelompok/Splited Dataset/test'"
      ],
      "execution_count": null,
      "outputs": []
    },
    {
      "cell_type": "code",
      "metadata": {
        "id": "I2-HZJlUmmJJ"
      },
      "source": [
        "import matplotlib.pyplot as plt \n",
        "from tensorflow.keras.preprocessing.image import ImageDataGenerator, load_img\n",
        "import tensorflow as tf\n",
        "from tensorflow.keras.utils import to_categorical\n",
        "from keras.callbacks import ReduceLROnPlateau"
      ],
      "execution_count": null,
      "outputs": []
    },
    {
      "cell_type": "code",
      "metadata": {
        "id": "oYYWY-nOmoVs"
      },
      "source": [
        "batch_size = 20"
      ],
      "execution_count": null,
      "outputs": []
    },
    {
      "cell_type": "markdown",
      "metadata": {
        "id": "nRVjTRWQ8ThF"
      },
      "source": [
        "#Augmentasi Data"
      ]
    },
    {
      "cell_type": "code",
      "metadata": {
        "colab": {
          "base_uri": "https://localhost:8080/"
        },
        "id": "Yyd2d6gImqY8",
        "outputId": "dbbcf22b-528e-43b5-b8ed-d4e671afc2a9"
      },
      "source": [
        "train_datagen = ImageDataGenerator(\n",
        "    rescale = 1./255,\n",
        "    horizontal_flip=True,\n",
        "    vertical_flip=True,\n",
        "    shear_range=0.5,\n",
        "    fill_mode='constant',\n",
        ")\n",
        "\n",
        "test_datagen = ImageDataGenerator(rescale=1./255)\n",
        "\n",
        "train_gen = train_datagen.flow_from_directory(\n",
        "    train_dir,\n",
        "    target_size=(100,150),\n",
        "    batch_size = batch_size,\n",
        "    shuffle=True,\n",
        "    color_mode=\"rgb\",\n",
        "    class_mode='categorical'\n",
        ")\n",
        "\n",
        "val_gen = train_datagen.flow_from_directory(\n",
        "    val_dir,\n",
        "    target_size=(100,150),\n",
        "    batch_size = batch_size,\n",
        "    color_mode=\"rgb\",\n",
        "    class_mode='categorical'\n",
        ")\n",
        "\n",
        "test_gen = test_datagen.flow_from_directory(\n",
        "    test_dir,\n",
        "    target_size=(100,150),\n",
        "    batch_size = batch_size,\n",
        "    color_mode=\"rgb\",\n",
        "    class_mode='categorical'\n",
        ")"
      ],
      "execution_count": null,
      "outputs": [
        {
          "output_type": "stream",
          "name": "stdout",
          "text": [
            "Found 3273 images belonging to 2 classes.\n",
            "Found 777 images belonging to 2 classes.\n",
            "Found 42 images belonging to 2 classes.\n"
          ]
        }
      ]
    }
  ]
}