{
  "nbformat": 4,
  "nbformat_minor": 0,
  "metadata": {
    "colab": {
      "name": "Splitting dan Augmrntasi Model 2.1",
      "provenance": []
    },
    "kernelspec": {
      "name": "python3",
      "display_name": "Python 3"
    },
    "language_info": {
      "name": "python"
    },
    "accelerator": "GPU"
  },
  "cells": [
    {
      "cell_type": "markdown",
      "metadata": {
        "id": "48xgwnQn70_1"
      },
      "source": [
        "#Load Dataset"
      ]
    },
    {
      "cell_type": "code",
      "metadata": {
        "colab": {
          "base_uri": "https://localhost:8080/"
        },
        "id": "g8emHEXyCDMb",
        "outputId": "d019e2c3-fb64-47f8-f236-4ab65ece4d9d"
      },
      "source": [
        "from google.colab import drive\n",
        "drive.mount('/content/drive')"
      ],
      "execution_count": null,
      "outputs": [
        {
          "output_type": "stream",
          "name": "stdout",
          "text": [
            "Mounted at /content/drive\n"
          ]
        }
      ]
    },
    {
      "cell_type": "code",
      "metadata": {
        "id": "XZWrN70qCiTp"
      },
      "source": [
        "with_mask= '/content/drive/MyDrive/Machine Learning/Tubes/Dataset/with_mask'\n",
        "without_mask = '/content/drive/MyDrive/Machine Learning/Tubes/Dataset/without_mask'"
      ],
      "execution_count": null,
      "outputs": []
    },
    {
      "cell_type": "code",
      "metadata": {
        "id": "rskOSPNxDrXH"
      },
      "source": [
        "import os"
      ],
      "execution_count": null,
      "outputs": []
    },
    {
      "cell_type": "code",
      "metadata": {
        "colab": {
          "base_uri": "https://localhost:8080/"
        },
        "id": "mjDr6H-pDdxh",
        "outputId": "edcb55a6-1212-47f6-d333-cc38be36630a"
      },
      "source": [
        "print(\"jumlah masker   :\", len(os.listdir(with_mask)))\n",
        "print(\"jumlah tanpa masker    :\", len(os.listdir(without_mask)))"
      ],
      "execution_count": null,
      "outputs": [
        {
          "output_type": "stream",
          "name": "stdout",
          "text": [
            "jumlah masker   : 2165\n",
            "jumlah tanpa masker    : 1930\n"
          ]
        }
      ]
    },
    {
      "cell_type": "markdown",
      "metadata": {
        "id": "L-loEYgx8PzB"
      },
      "source": [
        "#Splitting Dataset"
      ]
    },
    {
      "cell_type": "code",
      "source": [
        "!pip install split_folders\n",
        "import splitfolders"
      ],
      "metadata": {
        "id": "ROGqFhOGXxP5"
      },
      "execution_count": null,
      "outputs": []
    },
    {
      "cell_type": "code",
      "source": [
        "input_folder = '/content/drive/MyDrive/Machine Learning/Modul 3/Kegiatan Kelompok/Dataset'\n",
        "output = '/content/drive/MyDrive/Machine Learning/Modul 3/Kegiatan Kelompok/Splited Dataset'\n",
        "splitfolders.ratio(input_folder, output = output, seed=42, ratio=(.8, .19, .01))"
      ],
      "metadata": {
        "id": "pYN9_RZUXyqi"
      },
      "execution_count": null,
      "outputs": []
    },
    {
      "cell_type": "code",
      "metadata": {
        "id": "-5blBjJpOQw2"
      },
      "source": [
        "train_dir = '/content/drive/MyDrive/Machine Learning/Tubes/Splited Dataset/train'\n",
        "val_dir = '/content/drive/MyDrive/Machine Learning/Tubes/Splited Dataset/val'\n",
        "test_dir = '/content/drive/MyDrive/Machine Learning/Tubes/Splited Dataset/test'"
      ],
      "execution_count": null,
      "outputs": []
    },
    {
      "cell_type": "code",
      "metadata": {
        "id": "I2-HZJlUmmJJ"
      },
      "source": [
        "import matplotlib.pyplot as plt \n",
        "from tensorflow.keras.preprocessing.image import ImageDataGenerator, load_img\n",
        "import tensorflow as tf\n",
        "from tensorflow.keras.utils import to_categorical\n",
        "from keras.callbacks import ReduceLROnPlateau"
      ],
      "execution_count": null,
      "outputs": []
    },
    {
      "cell_type": "code",
      "metadata": {
        "id": "oYYWY-nOmoVs"
      },
      "source": [
        "batch_size = 20"
      ],
      "execution_count": null,
      "outputs": []
    },
    {
      "cell_type": "markdown",
      "metadata": {
        "id": "nRVjTRWQ8ThF"
      },
      "source": [
        "#Augmentasi Data"
      ]
    },
    {
      "cell_type": "code",
      "metadata": {
        "colab": {
          "base_uri": "https://localhost:8080/"
        },
        "id": "Yyd2d6gImqY8",
        "outputId": "b31314b5-9124-4ae1-bafe-b158746803de"
      },
      "source": [
        "train_datagen = ImageDataGenerator(\n",
        "    rescale = 1./255,\n",
        "    horizontal_flip=True,\n",
        "    vertical_flip=True,\n",
        "    shear_range=0.5,\n",
        "    fill_mode='constant',\n",
        ")\n",
        "\n",
        "test_datagen = ImageDataGenerator(rescale=1./255)\n",
        "\n",
        "train_gen = train_datagen.flow_from_directory(\n",
        "    train_dir,\n",
        "    target_size=(100,150),\n",
        "    batch_size = batch_size,\n",
        "    shuffle=True,\n",
        "    color_mode=\"rgb\",\n",
        "    class_mode='categorical'\n",
        ")\n",
        "\n",
        "val_gen = train_datagen.flow_from_directory(\n",
        "    val_dir,\n",
        "    target_size=(100,150),\n",
        "    batch_size = batch_size,\n",
        "    color_mode=\"rgb\",\n",
        "    class_mode='categorical'\n",
        ")\n",
        "\n",
        "test_gen = test_datagen.flow_from_directory(\n",
        "    test_dir,\n",
        "    target_size=(100,150),\n",
        "    batch_size = batch_size,\n",
        "    color_mode=\"rgb\",\n",
        "    class_mode='categorical'\n",
        ")"
      ],
      "execution_count": null,
      "outputs": [
        {
          "output_type": "stream",
          "name": "stdout",
          "text": [
            "Found 3273 images belonging to 2 classes.\n",
            "Found 777 images belonging to 2 classes.\n",
            "Found 42 images belonging to 2 classes.\n"
          ]
        }
      ]
    }
  ]
}